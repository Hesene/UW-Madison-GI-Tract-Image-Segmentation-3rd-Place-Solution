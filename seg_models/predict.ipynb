{
  "cells": [
    {
      "cell_type": "code",
      "execution_count": 1,
      "id": "7a7968f3",
      "metadata": {
        "_kg_hide-input": true,
        "_kg_hide-output": true,
        "execution": {
          "iopub.execute_input": "2022-07-24T12:26:50.960782Z",
          "iopub.status.busy": "2022-07-24T12:26:50.953796Z",
          "iopub.status.idle": "2022-07-24T12:28:45.088168Z",
          "shell.execute_reply": "2022-07-24T12:28:45.086699Z"
        },
        "papermill": {
          "duration": 114.171769,
          "end_time": "2022-07-24T12:28:45.088338",
          "exception": false,
          "start_time": "2022-07-24T12:26:50.916569",
          "status": "completed"
        },
        "tags": [],
        "pycharm": {}
      },
      "outputs": [
        {
          "name": "stdout",
          "output_type": "stream",
          "text": [
            "\u001b[33m  DEPRECATION: A future pip version will change local packages to be built in-place without first copying to a temporary directory. We recommend you use --use-feature\u003din-tree-build to test your packages with this new behavior before it becomes the default.\r\n",
            "   pip 21.3 will remove support for this functionality. You can find discussion regarding this at https://github.com/pypa/pip/issues/7555.\u001b[0m\r\n",
            "\u001b[33mWARNING: Running pip as the \u0027root\u0027 user can result in broken permissions and conflicting behaviour with the system package manager. It is recommended to use a virtual environment instead: https://pip.pypa.io/warnings/venv\u001b[0m\r\n",
            "\u001b[33m  DEPRECATION: A future pip version will change local packages to be built in-place without first copying to a temporary directory. We recommend you use --use-feature\u003din-tree-build to test your packages with this new behavior before it becomes the default.\r\n",
            "   pip 21.3 will remove support for this functionality. You can find discussion regarding this at https://github.com/pypa/pip/issues/7555.\u001b[0m\r\n",
            "\u001b[33mWARNING: Running pip as the \u0027root\u0027 user can result in broken permissions and conflicting behaviour with the system package manager. It is recommended to use a virtual environment instead: https://pip.pypa.io/warnings/venv\u001b[0m\r\n",
            "\u001b[33mWARNING: Running pip as the \u0027root\u0027 user can result in broken permissions and conflicting behaviour with the system package manager. It is recommended to use a virtual environment instead: https://pip.pypa.io/warnings/venv\u001b[0m\r\n",
            "\u001b[33mWARNING: Running pip as the \u0027root\u0027 user can result in broken permissions and conflicting behaviour with the system package manager. It is recommended to use a virtual environment instead: https://pip.pypa.io/warnings/venv\u001b[0m\r\n"
          ]
        }
      ],
      "source": [
        "!pip install -q ../input/smp-0-2-1/pretrainedmodels-0.7.4/pretrainedmodels-0.7.4\n",
        "!pip install -q ../input/smp-0-2-1/efficientnet_pytorch-0.6.3/efficientnet_pytorch-0.6.3\n",
        "!pip install -q ../input/smp-0-2-1/timm-0.4.12-py3-none-any.whl\n",
        "!pip install -q ../input/smp-0-2-1/segmentation_models_pytorch-0.2.1-py3-none-any.whl"
      ]
    },
    {
      "cell_type": "code",
      "execution_count": 2,
      "id": "1ce549d2",
      "metadata": {
        "execution": {
          "iopub.execute_input": "2022-07-24T12:28:45.149293Z",
          "iopub.status.busy": "2022-07-24T12:28:45.148539Z",
          "iopub.status.idle": "2022-07-24T12:28:55.318277Z",
          "shell.execute_reply": "2022-07-24T12:28:55.319014Z"
        },
        "papermill": {
          "duration": 10.202347,
          "end_time": "2022-07-24T12:28:55.319226",
          "exception": false,
          "start_time": "2022-07-24T12:28:45.116879",
          "status": "completed"
        },
        "tags": [],
        "pycharm": {}
      },
      "outputs": [
        {
          "name": "stdout",
          "output_type": "stream",
          "text": [
            "1.9.1\n",
            "0.2.1\n"
          ]
        }
      ],
      "source": [
        "import torch\n",
        "print(torch.__version__)\n",
        "import albumentations\n",
        "import sys  \n",
        "sys.path.append(\"../input/losscomb\")  \n",
        "sys.path.append(\"../input/timm-unet\")  \n",
        "sys.path.append(\"../input/timm-unet2\")  \n",
        "import segmentation_models_pytorch as smp\n",
        "import zoo\n",
        "import zoo2\n",
        "print(smp.__version__)\n",
        "# import loss_comb"
      ]
    },
    {
      "cell_type": "code",
      "execution_count": 3,
      "id": "d6d9cba5",
      "metadata": {
        "execution": {
          "iopub.execute_input": "2022-07-24T12:28:55.404260Z",
          "iopub.status.busy": "2022-07-24T12:28:55.403727Z",
          "iopub.status.idle": "2022-07-24T12:28:55.411070Z",
          "shell.execute_reply": "2022-07-24T12:28:55.410157Z"
        },
        "papermill": {
          "duration": 0.06284,
          "end_time": "2022-07-24T12:28:55.411251",
          "exception": false,
          "start_time": "2022-07-24T12:28:55.348411",
          "status": "completed"
        },
        "tags": [],
        "pycharm": {}
      },
      "outputs": [],
      "source": [
        "# base\n",
        "import os\n",
        "import sys\n",
        "import numpy as np\n",
        "import time\n",
        "import csv\n",
        "import argparse\n",
        "import math\n",
        "import pandas as pd\n",
        "import json\n",
        "\n",
        "# torch\n",
        "import torch\n",
        "import torch.utils.data as data\n",
        "import torch.nn.functional as F\n",
        "from torch.optim import lr_scheduler\n",
        "from torch.optim.optimizer import Optimizer\n",
        "import torch\n",
        "import torch.nn as nn\n",
        "# fp16\n",
        "from torch.cuda.amp import autocast, GradScaler\n",
        "\n",
        "# third party\n",
        "import random\n",
        "import cv2\n",
        "from tqdm import tqdm\n",
        "import albumentations\n",
        "from glob import glob\n",
        "# import segmentation_models_pytorch as smp"
      ]
    },
    {
      "cell_type": "code",
      "execution_count": 4,
      "id": "e34b9a5e",
      "metadata": {
        "execution": {
          "iopub.execute_input": "2022-07-24T12:28:55.535490Z",
          "iopub.status.busy": "2022-07-24T12:28:55.534576Z",
          "iopub.status.idle": "2022-07-24T12:28:55.547594Z",
          "shell.execute_reply": "2022-07-24T12:28:55.548846Z"
        },
        "papermill": {
          "duration": 0.06954,
          "end_time": "2022-07-24T12:28:55.549042",
          "exception": false,
          "start_time": "2022-07-24T12:28:55.479502",
          "status": "completed"
        },
        "tags": [],
        "pycharm": {}
      },
      "outputs": [
        {
          "name": "stdout",
          "output_type": "stream",
          "text": [
            "\u003e SEEDING DONE\n"
          ]
        }
      ],
      "source": [
        "def set_seed(seed \u003d 42):\n",
        "    \u0027\u0027\u0027Sets the seed of the entire notebook so results are the same every time we run.\n",
        "    This is for REPRODUCIBILITY.\u0027\u0027\u0027\n",
        "    np.random.seed(seed)\n",
        "    random.seed(seed)\n",
        "    torch.manual_seed(seed)\n",
        "    torch.cuda.manual_seed(seed)\n",
        "    # When running on the CuDNN backend, two further options must be set\n",
        "    torch.backends.cudnn.deterministic \u003d True\n",
        "    torch.backends.cudnn.benchmark \u003d False\n",
        "    # Set a fixed value for the hash seed\n",
        "    os.environ[\u0027PYTHONHASHSEED\u0027] \u003d str(seed)\n",
        "    print(\u0027\u003e SEEDING DONE\u0027)\n",
        "    \n",
        "set_seed(42)"
      ]
    },
    {
      "cell_type": "code",
      "execution_count": 5,
      "id": "29d09718",
      "metadata": {
        "execution": {
          "iopub.execute_input": "2022-07-24T12:28:55.655877Z",
          "iopub.status.busy": "2022-07-24T12:28:55.654969Z",
          "iopub.status.idle": "2022-07-24T12:28:55.664562Z",
          "shell.execute_reply": "2022-07-24T12:28:55.665054Z"
        },
        "papermill": {
          "duration": 0.068519,
          "end_time": "2022-07-24T12:28:55.665177",
          "exception": false,
          "start_time": "2022-07-24T12:28:55.596658",
          "status": "completed"
        },
        "tags": [],
        "pycharm": {}
      },
      "outputs": [],
      "source": [
        "# ref.: https://www.kaggle.com/stainsby/fast-tested-rle\n",
        "def rle_encode(img):\n",
        "    \"\"\" TBD\n",
        "\n",
        "    Args:\n",
        "        img (np.array):\n",
        "            - 1 indicating mask\n",
        "            - 0 indicating background\n",
        "\n",
        "    Returns:\n",
        "        run length as string formated\n",
        "    \"\"\"\n",
        "\n",
        "    pixels \u003d img.flatten()\n",
        "    pixels \u003d np.concatenate([[0], pixels, [0]])\n",
        "    runs \u003d np.where(pixels[1:] !\u003d pixels[:-1])[0] + 1\n",
        "    runs[1::2] -\u003d runs[::2]\n",
        "    return \u0027 \u0027.join(str(x) for x in runs)\n",
        "\n",
        "\n",
        "def get_metadata(row):\n",
        "    data \u003d row[\u0027id\u0027].split(\u0027_\u0027)\n",
        "    case \u003d int(data[0].replace(\u0027case\u0027,\u0027\u0027))\n",
        "    day \u003d int(data[1].replace(\u0027day\u0027,\u0027\u0027))\n",
        "    slice_ \u003d int(data[-1])\n",
        "    row[\u0027case\u0027] \u003d case\n",
        "    row[\u0027day\u0027] \u003d day\n",
        "    row[\u0027slice\u0027] \u003d slice_\n",
        "    return row\n",
        "\n",
        "\n",
        "def path2info(row):\n",
        "    path \u003d row[\u0027image_path\u0027]\n",
        "    # print(path)\n",
        "    path \u003d path.replace(\"\\\\\", \"/\")\n",
        "    data \u003d path.split(\u0027/\u0027)\n",
        "    slice_ \u003d int(data[-1].split(\u0027_\u0027)[1])\n",
        "    case \u003d int(data[-3].split(\u0027_\u0027)[0].replace(\u0027case\u0027,\u0027\u0027))\n",
        "    day \u003d int(data[-3].split(\u0027_\u0027)[1].replace(\u0027day\u0027,\u0027\u0027))\n",
        "    width \u003d int(data[-1].split(\u0027_\u0027)[2])\n",
        "    height \u003d int(data[-1].split(\u0027_\u0027)[3])\n",
        "    row[\u0027image_id\u0027] \u003d \"case%s_day%s_slice_%s\" % (case, day, str(slice_).zfill(4))\n",
        "    # print(row[\u0027image_id\u0027])\n",
        "    row[\u0027height\u0027] \u003d height\n",
        "    row[\u0027width\u0027] \u003d width\n",
        "    row[\u0027case\u0027] \u003d case\n",
        "    row[\u0027day\u0027] \u003d day\n",
        "    row[\u0027slice\u0027] \u003d slice_\n",
        "    return row"
      ]
    },
    {
      "cell_type": "code",
      "execution_count": 6,
      "id": "f53e6104",
      "metadata": {
        "execution": {
          "iopub.execute_input": "2022-07-24T12:28:55.767067Z",
          "iopub.status.busy": "2022-07-24T12:28:55.766278Z",
          "iopub.status.idle": "2022-07-24T12:28:56.119365Z",
          "shell.execute_reply": "2022-07-24T12:28:56.118933Z"
        },
        "papermill": {
          "duration": 0.406835,
          "end_time": "2022-07-24T12:28:56.119514",
          "exception": false,
          "start_time": "2022-07-24T12:28:55.712679",
          "status": "completed"
        },
        "tags": [],
        "pycharm": {}
      },
      "outputs": [
        {
          "data": {
            "text/html": [
              "\u003cdiv\u003e\n",
              "\u003cstyle scoped\u003e\n",
              "    .dataframe tbody tr th:only-of-type {\n",
              "        vertical-align: middle;\n",
              "    }\n",
              "\n",
              "    .dataframe tbody tr th {\n",
              "        vertical-align: top;\n",
              "    }\n",
              "\n",
              "    .dataframe thead th {\n",
              "        text-align: right;\n",
              "    }\n",
              "\u003c/style\u003e\n",
              "\u003ctable border\u003d\"1\" class\u003d\"dataframe\"\u003e\n",
              "  \u003cthead\u003e\n",
              "    \u003ctr style\u003d\"text-align: right;\"\u003e\n",
              "      \u003cth\u003e\u003c/th\u003e\n",
              "      \u003cth\u003eid\u003c/th\u003e\n",
              "      \u003cth\u003ecase\u003c/th\u003e\n",
              "      \u003cth\u003eday\u003c/th\u003e\n",
              "      \u003cth\u003eslice\u003c/th\u003e\n",
              "    \u003c/tr\u003e\n",
              "  \u003c/thead\u003e\n",
              "  \u003ctbody\u003e\n",
              "    \u003ctr\u003e\n",
              "      \u003cth\u003e0\u003c/th\u003e\n",
              "      \u003ctd\u003ecase2_day1_slice_0001\u003c/td\u003e\n",
              "      \u003ctd\u003e2\u003c/td\u003e\n",
              "      \u003ctd\u003e1\u003c/td\u003e\n",
              "      \u003ctd\u003e1\u003c/td\u003e\n",
              "    \u003c/tr\u003e\n",
              "    \u003ctr\u003e\n",
              "      \u003cth\u003e3\u003c/th\u003e\n",
              "      \u003ctd\u003ecase2_day1_slice_0002\u003c/td\u003e\n",
              "      \u003ctd\u003e2\u003c/td\u003e\n",
              "      \u003ctd\u003e1\u003c/td\u003e\n",
              "      \u003ctd\u003e2\u003c/td\u003e\n",
              "    \u003c/tr\u003e\n",
              "    \u003ctr\u003e\n",
              "      \u003cth\u003e6\u003c/th\u003e\n",
              "      \u003ctd\u003ecase2_day1_slice_0003\u003c/td\u003e\n",
              "      \u003ctd\u003e2\u003c/td\u003e\n",
              "      \u003ctd\u003e1\u003c/td\u003e\n",
              "      \u003ctd\u003e3\u003c/td\u003e\n",
              "    \u003c/tr\u003e\n",
              "    \u003ctr\u003e\n",
              "      \u003cth\u003e9\u003c/th\u003e\n",
              "      \u003ctd\u003ecase2_day1_slice_0004\u003c/td\u003e\n",
              "      \u003ctd\u003e2\u003c/td\u003e\n",
              "      \u003ctd\u003e1\u003c/td\u003e\n",
              "      \u003ctd\u003e4\u003c/td\u003e\n",
              "    \u003c/tr\u003e\n",
              "    \u003ctr\u003e\n",
              "      \u003cth\u003e12\u003c/th\u003e\n",
              "      \u003ctd\u003ecase2_day1_slice_0005\u003c/td\u003e\n",
              "      \u003ctd\u003e2\u003c/td\u003e\n",
              "      \u003ctd\u003e1\u003c/td\u003e\n",
              "      \u003ctd\u003e5\u003c/td\u003e\n",
              "    \u003c/tr\u003e\n",
              "  \u003c/tbody\u003e\n",
              "\u003c/table\u003e\n",
              "\u003c/div\u003e"
            ],
            "text/plain": [
              "                       id  case  day  slice\n",
              "0   case2_day1_slice_0001     2    1      1\n",
              "3   case2_day1_slice_0002     2    1      2\n",
              "6   case2_day1_slice_0003     2    1      3\n",
              "9   case2_day1_slice_0004     2    1      4\n",
              "12  case2_day1_slice_0005     2    1      5"
            ]
          },
          "execution_count": 6,
          "metadata": {},
          "output_type": "execute_result"
        }
      ],
      "source": [
        "sub_df \u003d pd.read_csv(r\u0027../input/uw-madison-gi-tract-image-segmentation/sample_submission.csv\u0027)\n",
        "if not len(sub_df):\n",
        "    debug \u003d True\n",
        "    sub_df \u003d pd.read_csv(r\u0027../input/test-examle/submission.csv\u0027)\n",
        "#     sub_df \u003d pd.read_csv(r\u0027../input/test-train/submission.csv\u0027)\n",
        "    sub_df \u003d sub_df.drop(columns\u003d[\u0027class\u0027,\u0027predicted\u0027]).drop_duplicates()\n",
        "else:\n",
        "    debug \u003d False\n",
        "    sub_df \u003d sub_df.drop(columns\u003d[\u0027class\u0027,\u0027predicted\u0027]).drop_duplicates()\n",
        "sub_df \u003d sub_df.apply(lambda x: get_metadata(x),axis\u003d1)\n",
        "sub_df.head(5)"
      ]
    },
    {
      "cell_type": "code",
      "execution_count": 7,
      "id": "96f38d3c",
      "metadata": {
        "execution": {
          "iopub.execute_input": "2022-07-24T12:28:56.183180Z",
          "iopub.status.busy": "2022-07-24T12:28:56.182675Z",
          "iopub.status.idle": "2022-07-24T12:28:56.724968Z",
          "shell.execute_reply": "2022-07-24T12:28:56.724533Z"
        },
        "papermill": {
          "duration": 0.575711,
          "end_time": "2022-07-24T12:28:56.725084",
          "exception": false,
          "start_time": "2022-07-24T12:28:56.149373",
          "status": "completed"
        },
        "tags": [],
        "pycharm": {}
      },
      "outputs": [
        {
          "data": {
            "text/html": [
              "\u003cdiv\u003e\n",
              "\u003cstyle scoped\u003e\n",
              "    .dataframe tbody tr th:only-of-type {\n",
              "        vertical-align: middle;\n",
              "    }\n",
              "\n",
              "    .dataframe tbody tr th {\n",
              "        vertical-align: top;\n",
              "    }\n",
              "\n",
              "    .dataframe thead th {\n",
              "        text-align: right;\n",
              "    }\n",
              "\u003c/style\u003e\n",
              "\u003ctable border\u003d\"1\" class\u003d\"dataframe\"\u003e\n",
              "  \u003cthead\u003e\n",
              "    \u003ctr style\u003d\"text-align: right;\"\u003e\n",
              "      \u003cth\u003e\u003c/th\u003e\n",
              "      \u003cth\u003eimage_path\u003c/th\u003e\n",
              "      \u003cth\u003eimage_id\u003c/th\u003e\n",
              "      \u003cth\u003eheight\u003c/th\u003e\n",
              "      \u003cth\u003ewidth\u003c/th\u003e\n",
              "      \u003cth\u003ecase\u003c/th\u003e\n",
              "      \u003cth\u003eday\u003c/th\u003e\n",
              "      \u003cth\u003eslice\u003c/th\u003e\n",
              "    \u003c/tr\u003e\n",
              "  \u003c/thead\u003e\n",
              "  \u003ctbody\u003e\n",
              "    \u003ctr\u003e\n",
              "      \u003cth\u003e0\u003c/th\u003e\n",
              "      \u003ctd\u003e../input/test-examle/test/case6/case6_day0/sca...\u003c/td\u003e\n",
              "      \u003ctd\u003ecase6_day0_slice_0004\u003c/td\u003e\n",
              "      \u003ctd\u003e310\u003c/td\u003e\n",
              "      \u003ctd\u003e360\u003c/td\u003e\n",
              "      \u003ctd\u003e6\u003c/td\u003e\n",
              "      \u003ctd\u003e0\u003c/td\u003e\n",
              "      \u003ctd\u003e4\u003c/td\u003e\n",
              "    \u003c/tr\u003e\n",
              "    \u003ctr\u003e\n",
              "      \u003cth\u003e1\u003c/th\u003e\n",
              "      \u003ctd\u003e../input/test-examle/test/case6/case6_day0/sca...\u003c/td\u003e\n",
              "      \u003ctd\u003ecase6_day0_slice_0033\u003c/td\u003e\n",
              "      \u003ctd\u003e310\u003c/td\u003e\n",
              "      \u003ctd\u003e360\u003c/td\u003e\n",
              "      \u003ctd\u003e6\u003c/td\u003e\n",
              "      \u003ctd\u003e0\u003c/td\u003e\n",
              "      \u003ctd\u003e33\u003c/td\u003e\n",
              "    \u003c/tr\u003e\n",
              "    \u003ctr\u003e\n",
              "      \u003cth\u003e2\u003c/th\u003e\n",
              "      \u003ctd\u003e../input/test-examle/test/case6/case6_day0/sca...\u003c/td\u003e\n",
              "      \u003ctd\u003ecase6_day0_slice_0002\u003c/td\u003e\n",
              "      \u003ctd\u003e310\u003c/td\u003e\n",
              "      \u003ctd\u003e360\u003c/td\u003e\n",
              "      \u003ctd\u003e6\u003c/td\u003e\n",
              "      \u003ctd\u003e0\u003c/td\u003e\n",
              "      \u003ctd\u003e2\u003c/td\u003e\n",
              "    \u003c/tr\u003e\n",
              "    \u003ctr\u003e\n",
              "      \u003cth\u003e3\u003c/th\u003e\n",
              "      \u003ctd\u003e../input/test-examle/test/case6/case6_day0/sca...\u003c/td\u003e\n",
              "      \u003ctd\u003ecase6_day0_slice_0011\u003c/td\u003e\n",
              "      \u003ctd\u003e310\u003c/td\u003e\n",
              "      \u003ctd\u003e360\u003c/td\u003e\n",
              "      \u003ctd\u003e6\u003c/td\u003e\n",
              "      \u003ctd\u003e0\u003c/td\u003e\n",
              "      \u003ctd\u003e11\u003c/td\u003e\n",
              "    \u003c/tr\u003e\n",
              "    \u003ctr\u003e\n",
              "      \u003cth\u003e4\u003c/th\u003e\n",
              "      \u003ctd\u003e../input/test-examle/test/case6/case6_day0/sca...\u003c/td\u003e\n",
              "      \u003ctd\u003ecase6_day0_slice_0019\u003c/td\u003e\n",
              "      \u003ctd\u003e310\u003c/td\u003e\n",
              "      \u003ctd\u003e360\u003c/td\u003e\n",
              "      \u003ctd\u003e6\u003c/td\u003e\n",
              "      \u003ctd\u003e0\u003c/td\u003e\n",
              "      \u003ctd\u003e19\u003c/td\u003e\n",
              "    \u003c/tr\u003e\n",
              "  \u003c/tbody\u003e\n",
              "\u003c/table\u003e\n",
              "\u003c/div\u003e"
            ],
            "text/plain": [
              "                                          image_path               image_id  \\\n",
              "0  ../input/test-examle/test/case6/case6_day0/sca...  case6_day0_slice_0004   \n",
              "1  ../input/test-examle/test/case6/case6_day0/sca...  case6_day0_slice_0033   \n",
              "2  ../input/test-examle/test/case6/case6_day0/sca...  case6_day0_slice_0002   \n",
              "3  ../input/test-examle/test/case6/case6_day0/sca...  case6_day0_slice_0011   \n",
              "4  ../input/test-examle/test/case6/case6_day0/sca...  case6_day0_slice_0019   \n",
              "\n",
              "   height  width  case  day  slice  \n",
              "0     310    360     6    0      4  \n",
              "1     310    360     6    0     33  \n",
              "2     310    360     6    0      2  \n",
              "3     310    360     6    0     11  \n",
              "4     310    360     6    0     19  "
            ]
          },
          "execution_count": 7,
          "metadata": {},
          "output_type": "execute_result"
        }
      ],
      "source": [
        "if debug:\n",
        "    paths \u003d glob(f\u0027../input/test-examle/test/**/*png\u0027, recursive\u003dTrue)\n",
        "#     paths \u003d glob(f\u0027../input/uw-madison-gi-tract-image-segmentation/train/**/*png\u0027, recursive\u003dTrue)\n",
        "else:\n",
        "    paths \u003d glob(f\u0027../input/uw-madison-gi-tract-image-segmentation/test/**/*png\u0027, recursive\u003dTrue)\n",
        "\n",
        "path_df \u003d pd.DataFrame(paths, columns\u003d[\u0027image_path\u0027])\n",
        "path_df \u003d path_df.apply(lambda x: path2info(x), axis\u003d1)\n",
        "path_df.head(5)"
      ]
    },
    {
      "cell_type": "code",
      "execution_count": 8,
      "id": "87ff04e5",
      "metadata": {
        "execution": {
          "iopub.execute_input": "2022-07-24T12:28:56.792309Z",
          "iopub.status.busy": "2022-07-24T12:28:56.788834Z",
          "iopub.status.idle": "2022-07-24T12:28:56.807570Z",
          "shell.execute_reply": "2022-07-24T12:28:56.807115Z"
        },
        "papermill": {
          "duration": 0.052488,
          "end_time": "2022-07-24T12:28:56.807685",
          "exception": false,
          "start_time": "2022-07-24T12:28:56.755197",
          "status": "completed"
        },
        "tags": [],
        "pycharm": {}
      },
      "outputs": [
        {
          "data": {
            "text/html": [
              "\u003cdiv\u003e\n",
              "\u003cstyle scoped\u003e\n",
              "    .dataframe tbody tr th:only-of-type {\n",
              "        vertical-align: middle;\n",
              "    }\n",
              "\n",
              "    .dataframe tbody tr th {\n",
              "        vertical-align: top;\n",
              "    }\n",
              "\n",
              "    .dataframe thead th {\n",
              "        text-align: right;\n",
              "    }\n",
              "\u003c/style\u003e\n",
              "\u003ctable border\u003d\"1\" class\u003d\"dataframe\"\u003e\n",
              "  \u003cthead\u003e\n",
              "    \u003ctr style\u003d\"text-align: right;\"\u003e\n",
              "      \u003cth\u003e\u003c/th\u003e\n",
              "      \u003cth\u003eimage_path\u003c/th\u003e\n",
              "      \u003cth\u003eimage_id\u003c/th\u003e\n",
              "      \u003cth\u003eheight\u003c/th\u003e\n",
              "      \u003cth\u003ewidth\u003c/th\u003e\n",
              "      \u003cth\u003ecase\u003c/th\u003e\n",
              "      \u003cth\u003eday\u003c/th\u003e\n",
              "      \u003cth\u003eslice\u003c/th\u003e\n",
              "      \u003cth\u003eid\u003c/th\u003e\n",
              "    \u003c/tr\u003e\n",
              "  \u003c/thead\u003e\n",
              "  \u003ctbody\u003e\n",
              "    \u003ctr\u003e\n",
              "      \u003cth\u003e0\u003c/th\u003e\n",
              "      \u003ctd\u003e../input/test-examle/test/case6/case6_day0/sca...\u003c/td\u003e\n",
              "      \u003ctd\u003ecase6_day0_slice_0004\u003c/td\u003e\n",
              "      \u003ctd\u003e310\u003c/td\u003e\n",
              "      \u003ctd\u003e360\u003c/td\u003e\n",
              "      \u003ctd\u003e6\u003c/td\u003e\n",
              "      \u003ctd\u003e0\u003c/td\u003e\n",
              "      \u003ctd\u003e4\u003c/td\u003e\n",
              "      \u003ctd\u003ecase6_day0_slice_0004\u003c/td\u003e\n",
              "    \u003c/tr\u003e\n",
              "    \u003ctr\u003e\n",
              "      \u003cth\u003e1\u003c/th\u003e\n",
              "      \u003ctd\u003e../input/test-examle/test/case6/case6_day0/sca...\u003c/td\u003e\n",
              "      \u003ctd\u003ecase6_day0_slice_0033\u003c/td\u003e\n",
              "      \u003ctd\u003e310\u003c/td\u003e\n",
              "      \u003ctd\u003e360\u003c/td\u003e\n",
              "      \u003ctd\u003e6\u003c/td\u003e\n",
              "      \u003ctd\u003e0\u003c/td\u003e\n",
              "      \u003ctd\u003e33\u003c/td\u003e\n",
              "      \u003ctd\u003ecase6_day0_slice_0033\u003c/td\u003e\n",
              "    \u003c/tr\u003e\n",
              "    \u003ctr\u003e\n",
              "      \u003cth\u003e2\u003c/th\u003e\n",
              "      \u003ctd\u003e../input/test-examle/test/case6/case6_day0/sca...\u003c/td\u003e\n",
              "      \u003ctd\u003ecase6_day0_slice_0002\u003c/td\u003e\n",
              "      \u003ctd\u003e310\u003c/td\u003e\n",
              "      \u003ctd\u003e360\u003c/td\u003e\n",
              "      \u003ctd\u003e6\u003c/td\u003e\n",
              "      \u003ctd\u003e0\u003c/td\u003e\n",
              "      \u003ctd\u003e2\u003c/td\u003e\n",
              "      \u003ctd\u003ecase6_day0_slice_0002\u003c/td\u003e\n",
              "    \u003c/tr\u003e\n",
              "    \u003ctr\u003e\n",
              "      \u003cth\u003e3\u003c/th\u003e\n",
              "      \u003ctd\u003e../input/test-examle/test/case6/case6_day0/sca...\u003c/td\u003e\n",
              "      \u003ctd\u003ecase6_day0_slice_0011\u003c/td\u003e\n",
              "      \u003ctd\u003e310\u003c/td\u003e\n",
              "      \u003ctd\u003e360\u003c/td\u003e\n",
              "      \u003ctd\u003e6\u003c/td\u003e\n",
              "      \u003ctd\u003e0\u003c/td\u003e\n",
              "      \u003ctd\u003e11\u003c/td\u003e\n",
              "      \u003ctd\u003ecase6_day0_slice_0011\u003c/td\u003e\n",
              "    \u003c/tr\u003e\n",
              "    \u003ctr\u003e\n",
              "      \u003cth\u003e4\u003c/th\u003e\n",
              "      \u003ctd\u003e../input/test-examle/test/case6/case6_day0/sca...\u003c/td\u003e\n",
              "      \u003ctd\u003ecase6_day0_slice_0019\u003c/td\u003e\n",
              "      \u003ctd\u003e310\u003c/td\u003e\n",
              "      \u003ctd\u003e360\u003c/td\u003e\n",
              "      \u003ctd\u003e6\u003c/td\u003e\n",
              "      \u003ctd\u003e0\u003c/td\u003e\n",
              "      \u003ctd\u003e19\u003c/td\u003e\n",
              "      \u003ctd\u003ecase6_day0_slice_0019\u003c/td\u003e\n",
              "    \u003c/tr\u003e\n",
              "  \u003c/tbody\u003e\n",
              "\u003c/table\u003e\n",
              "\u003c/div\u003e"
            ],
            "text/plain": [
              "                                          image_path               image_id  \\\n",
              "0  ../input/test-examle/test/case6/case6_day0/sca...  case6_day0_slice_0004   \n",
              "1  ../input/test-examle/test/case6/case6_day0/sca...  case6_day0_slice_0033   \n",
              "2  ../input/test-examle/test/case6/case6_day0/sca...  case6_day0_slice_0002   \n",
              "3  ../input/test-examle/test/case6/case6_day0/sca...  case6_day0_slice_0011   \n",
              "4  ../input/test-examle/test/case6/case6_day0/sca...  case6_day0_slice_0019   \n",
              "\n",
              "   height  width  case  day  slice                     id  \n",
              "0     310    360     6    0      4  case6_day0_slice_0004  \n",
              "1     310    360     6    0     33  case6_day0_slice_0033  \n",
              "2     310    360     6    0      2  case6_day0_slice_0002  \n",
              "3     310    360     6    0     11  case6_day0_slice_0011  \n",
              "4     310    360     6    0     19  case6_day0_slice_0019  "
            ]
          },
          "execution_count": 8,
          "metadata": {},
          "output_type": "execute_result"
        }
      ],
      "source": [
        "path_df \u003d path_df.merge(sub_df, on\u003d[\u0027case\u0027,\u0027day\u0027,\u0027slice\u0027], how\u003d\u0027left\u0027)\n",
        "path_df.head(5)"
      ]
    },
    {
      "cell_type": "code",
      "execution_count": 9,
      "id": "c3215b43",
      "metadata": {
        "execution": {
          "iopub.execute_input": "2022-07-24T12:28:56.887208Z",
          "iopub.status.busy": "2022-07-24T12:28:56.886586Z",
          "iopub.status.idle": "2022-07-24T12:29:12.104338Z",
          "shell.execute_reply": "2022-07-24T12:29:12.104771Z"
        },
        "papermill": {
          "duration": 15.266725,
          "end_time": "2022-07-24T12:29:12.104928",
          "exception": false,
          "start_time": "2022-07-24T12:28:56.838203",
          "status": "completed"
        },
        "tags": [],
        "pycharm": {}
      },
      "outputs": [
        {
          "name": "stderr",
          "output_type": "stream",
          "text": [
            "100%|██████████| 2/2 [00:09\u003c00:00,  4.85s/it]\n"
          ]
        },
        {
          "data": {
            "text/html": [
              "\u003cdiv\u003e\n",
              "\u003cstyle scoped\u003e\n",
              "    .dataframe tbody tr th:only-of-type {\n",
              "        vertical-align: middle;\n",
              "    }\n",
              "\n",
              "    .dataframe tbody tr th {\n",
              "        vertical-align: top;\n",
              "    }\n",
              "\n",
              "    .dataframe thead th {\n",
              "        text-align: right;\n",
              "    }\n",
              "\u003c/style\u003e\n",
              "\u003ctable border\u003d\"1\" class\u003d\"dataframe\"\u003e\n",
              "  \u003cthead\u003e\n",
              "    \u003ctr style\u003d\"text-align: right;\"\u003e\n",
              "      \u003cth\u003e\u003c/th\u003e\n",
              "      \u003cth\u003eimage_path\u003c/th\u003e\n",
              "      \u003cth\u003eimage_id\u003c/th\u003e\n",
              "      \u003cth\u003eheight\u003c/th\u003e\n",
              "      \u003cth\u003ewidth\u003c/th\u003e\n",
              "      \u003cth\u003ecase\u003c/th\u003e\n",
              "      \u003cth\u003eday\u003c/th\u003e\n",
              "      \u003cth\u003eslice\u003c/th\u003e\n",
              "      \u003cth\u003eid\u003c/th\u003e\n",
              "      \u003cth\u003exmin\u003c/th\u003e\n",
              "      \u003cth\u003exmax\u003c/th\u003e\n",
              "      \u003cth\u003eymin\u003c/th\u003e\n",
              "      \u003cth\u003eymax\u003c/th\u003e\n",
              "    \u003c/tr\u003e\n",
              "  \u003c/thead\u003e\n",
              "  \u003ctbody\u003e\n",
              "    \u003ctr\u003e\n",
              "      \u003cth\u003e0\u003c/th\u003e\n",
              "      \u003ctd\u003e../input/test-examle/test/case6/case6_day0/sca...\u003c/td\u003e\n",
              "      \u003ctd\u003ecase6_day0_slice_0004\u003c/td\u003e\n",
              "      \u003ctd\u003e310\u003c/td\u003e\n",
              "      \u003ctd\u003e360\u003c/td\u003e\n",
              "      \u003ctd\u003e6\u003c/td\u003e\n",
              "      \u003ctd\u003e0\u003c/td\u003e\n",
              "      \u003ctd\u003e4\u003c/td\u003e\n",
              "      \u003ctd\u003ecase6_day0_slice_0004\u003c/td\u003e\n",
              "      \u003ctd\u003e60\u003c/td\u003e\n",
              "      \u003ctd\u003e288\u003c/td\u003e\n",
              "      \u003ctd\u003e88\u003c/td\u003e\n",
              "      \u003ctd\u003e246\u003c/td\u003e\n",
              "    \u003c/tr\u003e\n",
              "    \u003ctr\u003e\n",
              "      \u003cth\u003e1\u003c/th\u003e\n",
              "      \u003ctd\u003e../input/test-examle/test/case6/case6_day0/sca...\u003c/td\u003e\n",
              "      \u003ctd\u003ecase6_day0_slice_0033\u003c/td\u003e\n",
              "      \u003ctd\u003e310\u003c/td\u003e\n",
              "      \u003ctd\u003e360\u003c/td\u003e\n",
              "      \u003ctd\u003e6\u003c/td\u003e\n",
              "      \u003ctd\u003e0\u003c/td\u003e\n",
              "      \u003ctd\u003e33\u003c/td\u003e\n",
              "      \u003ctd\u003ecase6_day0_slice_0033\u003c/td\u003e\n",
              "      \u003ctd\u003e71\u003c/td\u003e\n",
              "      \u003ctd\u003e331\u003c/td\u003e\n",
              "      \u003ctd\u003e62\u003c/td\u003e\n",
              "      \u003ctd\u003e250\u003c/td\u003e\n",
              "    \u003c/tr\u003e\n",
              "    \u003ctr\u003e\n",
              "      \u003cth\u003e2\u003c/th\u003e\n",
              "      \u003ctd\u003e../input/test-examle/test/case6/case6_day0/sca...\u003c/td\u003e\n",
              "      \u003ctd\u003ecase6_day0_slice_0002\u003c/td\u003e\n",
              "      \u003ctd\u003e310\u003c/td\u003e\n",
              "      \u003ctd\u003e360\u003c/td\u003e\n",
              "      \u003ctd\u003e6\u003c/td\u003e\n",
              "      \u003ctd\u003e0\u003c/td\u003e\n",
              "      \u003ctd\u003e2\u003c/td\u003e\n",
              "      \u003ctd\u003ecase6_day0_slice_0002\u003c/td\u003e\n",
              "      \u003ctd\u003e65\u003c/td\u003e\n",
              "      \u003ctd\u003e272\u003c/td\u003e\n",
              "      \u003ctd\u003e91\u003c/td\u003e\n",
              "      \u003ctd\u003e244\u003c/td\u003e\n",
              "    \u003c/tr\u003e\n",
              "    \u003ctr\u003e\n",
              "      \u003cth\u003e3\u003c/th\u003e\n",
              "      \u003ctd\u003e../input/test-examle/test/case6/case6_day0/sca...\u003c/td\u003e\n",
              "      \u003ctd\u003ecase6_day0_slice_0011\u003c/td\u003e\n",
              "      \u003ctd\u003e310\u003c/td\u003e\n",
              "      \u003ctd\u003e360\u003c/td\u003e\n",
              "      \u003ctd\u003e6\u003c/td\u003e\n",
              "      \u003ctd\u003e0\u003c/td\u003e\n",
              "      \u003ctd\u003e11\u003c/td\u003e\n",
              "      \u003ctd\u003ecase6_day0_slice_0011\u003c/td\u003e\n",
              "      \u003ctd\u003e78\u003c/td\u003e\n",
              "      \u003ctd\u003e345\u003c/td\u003e\n",
              "      \u003ctd\u003e78\u003c/td\u003e\n",
              "      \u003ctd\u003e245\u003c/td\u003e\n",
              "    \u003c/tr\u003e\n",
              "    \u003ctr\u003e\n",
              "      \u003cth\u003e4\u003c/th\u003e\n",
              "      \u003ctd\u003e../input/test-examle/test/case6/case6_day0/sca...\u003c/td\u003e\n",
              "      \u003ctd\u003ecase6_day0_slice_0019\u003c/td\u003e\n",
              "      \u003ctd\u003e310\u003c/td\u003e\n",
              "      \u003ctd\u003e360\u003c/td\u003e\n",
              "      \u003ctd\u003e6\u003c/td\u003e\n",
              "      \u003ctd\u003e0\u003c/td\u003e\n",
              "      \u003ctd\u003e19\u003c/td\u003e\n",
              "      \u003ctd\u003ecase6_day0_slice_0019\u003c/td\u003e\n",
              "      \u003ctd\u003e75\u003c/td\u003e\n",
              "      \u003ctd\u003e338\u003c/td\u003e\n",
              "      \u003ctd\u003e71\u003c/td\u003e\n",
              "      \u003ctd\u003e247\u003c/td\u003e\n",
              "    \u003c/tr\u003e\n",
              "  \u003c/tbody\u003e\n",
              "\u003c/table\u003e\n",
              "\u003c/div\u003e"
            ],
            "text/plain": [
              "                                          image_path               image_id  \\\n",
              "0  ../input/test-examle/test/case6/case6_day0/sca...  case6_day0_slice_0004   \n",
              "1  ../input/test-examle/test/case6/case6_day0/sca...  case6_day0_slice_0033   \n",
              "2  ../input/test-examle/test/case6/case6_day0/sca...  case6_day0_slice_0002   \n",
              "3  ../input/test-examle/test/case6/case6_day0/sca...  case6_day0_slice_0011   \n",
              "4  ../input/test-examle/test/case6/case6_day0/sca...  case6_day0_slice_0019   \n",
              "\n",
              "   height  width  case  day  slice                     id  xmin  xmax  ymin  \\\n",
              "0     310    360     6    0      4  case6_day0_slice_0004    60   288    88   \n",
              "1     310    360     6    0     33  case6_day0_slice_0033    71   331    62   \n",
              "2     310    360     6    0      2  case6_day0_slice_0002    65   272    91   \n",
              "3     310    360     6    0     11  case6_day0_slice_0011    78   345    78   \n",
              "4     310    360     6    0     19  case6_day0_slice_0019    75   338    71   \n",
              "\n",
              "   ymax  \n",
              "0   246  \n",
              "1   250  \n",
              "2   244  \n",
              "3   245  \n",
              "4   247  "
            ]
          },
          "execution_count": 9,
          "metadata": {},
          "output_type": "execute_result"
        }
      ],
      "source": [
        "sys.path.append(\"../input/effdet/det_v0_upload\")\n",
        "from torch.backends import cudnn\n",
        "from backbone import EfficientDetBackbone\n",
        "from efficientdet.utils import BBoxTransform, ClipBoxes\n",
        "from utils.utils import preprocess, invert_affine, preprocess_16bit, postprocess ,preprocess_video\n",
        "from torch.utils.data import DataLoader\n",
        "\n",
        "import os\n",
        "import json\n",
        "from tqdm import tqdm\n",
        "\n",
        "\n",
        "# det model setting\n",
        "compound_coef \u003d 0\n",
        "threshold \u003d 0.5\n",
        "iou_threshold \u003d 0.5\n",
        "\n",
        "use_cuda \u003d True\n",
        "use_float16 \u003d False\n",
        "cudnn.fastest \u003d True\n",
        "cudnn.benchmark \u003d True\n",
        "\n",
        "obj_list \u003d [\u0027att_part\u0027]\n",
        "\n",
        "input_size \u003d 256\n",
        "det_batch_size \u003d 128\n",
        "\n",
        "det_model_path \u003d r\"../input/effdet/det_v0_upload/logs256/efficientdet-d0_7_1500.pth\"\n",
        "det_model \u003d EfficientDetBackbone(compound_coef\u003dcompound_coef, num_classes\u003dlen(obj_list))\n",
        "det_model.load_state_dict(torch.load(det_model_path, map_location\u003d\u0027cpu\u0027))\n",
        "# model.load_state_dict(torch.load(det_model_path))\n",
        "if use_cuda:\n",
        "    det_model \u003d det_model.cuda()\n",
        "\n",
        "det_model.requires_grad_(False)\n",
        "det_model.eval()\n",
        "\n",
        "# det part\n",
        "regressBoxes \u003d BBoxTransform()\n",
        "clipBoxes \u003d ClipBoxes()\n",
        "\n",
        "path_df[\u0027xmin\u0027] \u003d path_df.slice.map(lambda x: 0)\n",
        "path_df[\u0027xmax\u0027] \u003d path_df.slice.map(lambda x: 0)\n",
        "path_df[\u0027ymin\u0027] \u003d path_df.slice.map(lambda x: 0)\n",
        "path_df[\u0027ymax\u0027] \u003d path_df.slice.map(lambda x: 0)\n",
        "\n",
        "image_index_list \u003d [i for i in range(path_df.shape[0])]\n",
        "dataloader \u003d DataLoader(dataset\u003dimage_index_list, batch_size\u003ddet_batch_size, shuffle\u003dFalse, num_workers\u003d2)\n",
        "\n",
        "for idx, items in enumerate(tqdm(dataloader)): \n",
        "    batch_path \u003d [path_df.iloc[int(item)].image_path for item in items]\n",
        "\n",
        "    ori_imgs, framed_imgs, framed_metas \u003d preprocess_16bit(batch_path, max_size\u003dinput_size)\n",
        "\n",
        "    if use_cuda:\n",
        "        x \u003d torch.stack([torch.from_numpy(fi).cuda() for fi in framed_imgs], 0)\n",
        "    else:\n",
        "        x \u003d torch.stack([torch.from_numpy(fi) for fi in framed_imgs], 0)\n",
        "\n",
        "    x \u003d x.to(torch.float32 if not use_float16 else torch.float16).permute(0, 3, 1, 2)\n",
        "\n",
        "    with torch.no_grad():\n",
        "        features, regression, classification, anchors \u003d det_model(x)\n",
        "\n",
        "        out \u003d postprocess(x,\n",
        "                        anchors, regression, classification,\n",
        "                        regressBoxes, clipBoxes,\n",
        "                        threshold, iou_threshold)\n",
        "\n",
        "    # result\n",
        "    out_batch \u003d invert_affine(framed_metas, out)\n",
        "\n",
        "    for idx_o, out_pic in enumerate(out_batch):\n",
        "        bbox_list \u003d out_pic[\"rois\"]\n",
        "        src_image_path \u003d batch_path[idx_o]\n",
        "        if len(bbox_list) \u003d\u003d 0:\n",
        "            print(\"Not Det BBox\", batch_path[idx_o])\n",
        "            image_metas \u003d framed_metas[idx_o]\n",
        "            x1, y1, x2, y2 \u003d 0, 0, image_metas[2], image_metas[3]\n",
        "            path_df.loc[path_df.image_path \u003d\u003d src_image_path, \u0027xmin\u0027] \u003d x1\n",
        "            path_df.loc[path_df.image_path \u003d\u003d src_image_path, \u0027xmax\u0027] \u003d x2\n",
        "            path_df.loc[path_df.image_path \u003d\u003d src_image_path, \u0027ymin\u0027] \u003d y1\n",
        "            path_df.loc[path_df.image_path \u003d\u003d src_image_path, \u0027ymax\u0027] \u003d y2\n",
        "        else:\n",
        "            x1, y1, x2, y2 \u003d bbox_list[0].astype(np.int)\n",
        "            path_df.loc[path_df.image_path \u003d\u003d src_image_path, \u0027xmin\u0027] \u003d x1\n",
        "            path_df.loc[path_df.image_path \u003d\u003d src_image_path, \u0027xmax\u0027] \u003d x2\n",
        "            path_df.loc[path_df.image_path \u003d\u003d src_image_path, \u0027ymin\u0027] \u003d y1\n",
        "            path_df.loc[path_df.image_path \u003d\u003d src_image_path, \u0027ymax\u0027] \u003d y2\n",
        "\n",
        "del det_model\n",
        "path_df.head(5)"
      ]
    },
    {
      "cell_type": "code",
      "execution_count": 10,
      "id": "d9222095",
      "metadata": {
        "execution": {
          "iopub.execute_input": "2022-07-24T12:29:12.173827Z",
          "iopub.status.busy": "2022-07-24T12:29:12.172967Z",
          "iopub.status.idle": "2022-07-24T12:29:12.175796Z",
          "shell.execute_reply": "2022-07-24T12:29:12.175339Z"
        },
        "papermill": {
          "duration": 0.038567,
          "end_time": "2022-07-24T12:29:12.175913",
          "exception": false,
          "start_time": "2022-07-24T12:29:12.137346",
          "status": "completed"
        },
        "tags": [],
        "pycharm": {}
      },
      "outputs": [],
      "source": [
        "# aux_params\u003ddict(\n",
        "#     pooling\u003d\u0027avg\u0027,             # one of \u0027avg\u0027, \u0027max\u0027\n",
        "#     dropout\u003d0.5,               # dropout ratio, default is None\n",
        "#     activation\u003dNone,      # activation function, default is None\n",
        "#     classes\u003d3,                 # define number of output labels\n",
        "# )\n",
        "# # model \u003d smp.Unet(\u0027resnet34\u0027, classes\u003d3, aux_params\u003daux_params)\n",
        "# model \u003d smp.Unet(\u0027efficientnet-b3\u0027, encoder_weights\u003dNone, classes\u003d3, aux_params\u003daux_params)\n",
        "# model \u003d torch.nn.DataParallel(model)\n",
        "\n",
        "# seg_model \u003d smp.FPN(\u0027efficientnet-b3\u0027, encoder_weights\u003dNone, classes\u003d3, aux_params\u003daux_params)\n",
        "# seg_model \u003d torch.nn.DataParallel(seg_model)"
      ]
    },
    {
      "cell_type": "code",
      "execution_count": 11,
      "id": "d512dd8b",
      "metadata": {
        "execution": {
          "iopub.execute_input": "2022-07-24T12:29:12.245509Z",
          "iopub.status.busy": "2022-07-24T12:29:12.243272Z",
          "iopub.status.idle": "2022-07-24T12:29:12.247781Z",
          "shell.execute_reply": "2022-07-24T12:29:12.247317Z"
        },
        "papermill": {
          "duration": 0.039523,
          "end_time": "2022-07-24T12:29:12.247891",
          "exception": false,
          "start_time": "2022-07-24T12:29:12.208368",
          "status": "completed"
        },
        "tags": [],
        "pycharm": {}
      },
      "outputs": [],
      "source": [
        "torch.cuda.empty_cache()"
      ]
    },
    {
      "cell_type": "code",
      "execution_count": 12,
      "id": "61d47934",
      "metadata": {
        "execution": {
          "iopub.execute_input": "2022-07-24T12:29:12.315665Z",
          "iopub.status.busy": "2022-07-24T12:29:12.315104Z",
          "iopub.status.idle": "2022-07-24T12:29:12.318508Z",
          "shell.execute_reply": "2022-07-24T12:29:12.317985Z"
        },
        "papermill": {
          "duration": 0.038146,
          "end_time": "2022-07-24T12:29:12.318632",
          "exception": false,
          "start_time": "2022-07-24T12:29:12.280486",
          "status": "completed"
        },
        "tags": [],
        "pycharm": {}
      },
      "outputs": [],
      "source": ""
    },
    {
      "cell_type": "code",
      "execution_count": 14,
      "id": "c4c44c8c",
      "metadata": {
        "execution": {
          "iopub.execute_input": "2022-07-24T12:29:12.478370Z",
          "iopub.status.busy": "2022-07-24T12:29:12.477560Z",
          "iopub.status.idle": "2022-07-24T12:29:43.093585Z",
          "shell.execute_reply": "2022-07-24T12:29:43.094209Z"
        },
        "papermill": {
          "duration": 30.661414,
          "end_time": "2022-07-24T12:29:43.094387",
          "exception": false,
          "start_time": "2022-07-24T12:29:12.432973",
          "status": "completed"
        },
        "tags": [],
        "pycharm": {}
      },
      "outputs": [
        {
          "name": "stdout",
          "output_type": "stream",
          "text": [
            "cls model:  5\n"
          ]
        }
      ],
      "source": "aux_params\u003ddict(\n    pooling\u003d\u0027avg\u0027,             # one of \u0027avg\u0027, \u0027max\u0027\n    dropout\u003d0.5,               # dropout ratio, default is None\n    activation\u003dNone,      # activation function, default is None\n    classes\u003d3,                 # define number of output labels\n)\ncls_model_list \u003d []\n\n\n\nsnapshot_path \u003d r\u0027../input/unet-b7v2-s320-slice3-f0\u0027\nfor num_fold in range(1):\n    model \u003d zoo.TimmUnet(encoder\u003d\u0027tf_efficientnetv2_l_in21k\u0027, in_chans\u003d3, num_class\u003d3, pretrained\u003dFalse)\n    model \u003d torch.nn.DataParallel(model).cuda()\n    state \u003d torch.load(snapshot_path + \u0027/b7_v2_320_swa_\u0027 + str(num_fold) + \u0027.pth\u0027)\n    model.load_state_dict(state[\u0027state_dict\u0027])\n    model.eval()\n    cls_model_list.append(model)\n\nsnapshot_path \u003d r\u0027../input/unetb7v2-s320-slice3-swa-f12\u0027\nfor num_fold in [1, 2]:\n    model \u003d zoo.TimmUnet(encoder\u003d\u0027tf_efficientnetv2_l_in21k\u0027, in_chans\u003d3, num_class\u003d3, pretrained\u003dFalse)\n    model \u003d torch.nn.DataParallel(model).cuda()\n    state \u003d torch.load(snapshot_path + \u0027/b7_v2_320_swa_\u0027 + str(num_fold) + \u0027.pth.tar\u0027)\n    model.load_state_dict(state[\u0027state_dict\u0027])\n    model.eval()\n    cls_model_list.append(model)\n\nsnapshot_path \u003d r\u0027../input/unetb7v2s320slice3swaf34\u0027\nfor num_fold in [3, 4]:\n    model \u003d zoo.TimmUnet(encoder\u003d\u0027tf_efficientnetv2_l_in21k\u0027, in_chans\u003d3, num_class\u003d3, pretrained\u003dFalse)\n    model \u003d torch.nn.DataParallel(model).cuda()\n    state \u003d torch.load(snapshot_path + \u0027/b7_v2_320_swa_\u0027 + str(num_fold) + \u0027.pth.tar\u0027)\n    model.load_state_dict(state[\u0027state_dict\u0027])\n    model.eval()\n    cls_model_list.append(model)\n\nprint(\"cls model: \", len(cls_model_list))"
    },
    {
      "cell_type": "code",
      "execution_count": 15,
      "id": "9abbf389",
      "metadata": {
        "execution": {
          "iopub.execute_input": "2022-07-24T12:29:43.174897Z",
          "iopub.status.busy": "2022-07-24T12:29:43.174079Z",
          "iopub.status.idle": "2022-07-24T12:30:13.895529Z",
          "shell.execute_reply": "2022-07-24T12:30:13.895993Z"
        },
        "papermill": {
          "duration": 30.766954,
          "end_time": "2022-07-24T12:30:13.896138",
          "exception": false,
          "start_time": "2022-07-24T12:29:43.129184",
          "status": "completed"
        },
        "tags": [],
        "pycharm": {}
      },
      "outputs": [
        {
          "name": "stdout",
          "output_type": "stream",
          "text": [
            "cls sl5 model:  5\n"
          ]
        }
      ],
      "source": [
        "cls_sl5_model_list \u003d []\n",
        "\n",
        "for num_fold in [0]: # 0.886\n",
        "    model \u003d zoo.TimmUnet(encoder\u003d\u0027tf_efficientnetv2_l_in21k\u0027, in_chans\u003d5, num_class\u003d3, pretrained\u003dFalse)\n",
        "    model \u003d torch.nn.DataParallel(model).cuda()\n",
        "    state \u003d torch.load(\"../input/unet-b7v2-sl5-s320-e0/b7_v2_s320_sl5_swa_0.pth.tar\")\n",
        "    model.load_state_dict(state[\u0027state_dict\u0027])\n",
        "    model.eval()\n",
        "    cls_sl5_model_list.append(model)\n",
        "\n",
        "for num_fold in [1, 2, 3]:\n",
        "    model \u003d zoo.TimmUnet(encoder\u003d\u0027tf_efficientnetv2_l_in21k\u0027, in_chans\u003d5, num_class\u003d3, pretrained\u003dFalse)\n",
        "    model \u003d torch.nn.DataParallel(model).cuda()\n",
        "    state \u003d torch.load(\"../input/unet-b7v2-sl5-s320-swa-f123/b7_v2_s320_sl5_swa_%s.pth.tar\" % num_fold)\n",
        "    model.load_state_dict(state[\u0027state_dict\u0027])\n",
        "    model.eval()\n",
        "    cls_sl5_model_list.append(model)\n",
        "\n",
        "for num_fold in [4]:\n",
        "    model \u003d zoo.TimmUnet(encoder\u003d\u0027tf_efficientnetv2_l_in21k\u0027, in_chans\u003d5, num_class\u003d3, pretrained\u003dFalse)\n",
        "    model \u003d torch.nn.DataParallel(model).cuda()\n",
        "    state \u003d torch.load(\"../input/unet-b7v2-sl5-s320-swa-f4/b7_v2_s320_sl5_swa_%s.pth.tar\" % num_fold)\n",
        "    model.load_state_dict(state[\u0027state_dict\u0027])\n",
        "    model.eval()\n",
        "    cls_sl5_model_list.append(model)\n",
        "\n",
        "print(\"cls sl5 model: \", len(cls_sl5_model_list))"
      ]
    },
    {
      "cell_type": "code",
      "execution_count": 16,
      "id": "06465502",
      "metadata": {
        "execution": {
          "iopub.execute_input": "2022-07-24T12:30:13.970632Z",
          "iopub.status.busy": "2022-07-24T12:30:13.969721Z",
          "iopub.status.idle": "2022-07-24T12:30:29.416339Z",
          "shell.execute_reply": "2022-07-24T12:30:29.416934Z"
        },
        "papermill": {
          "duration": 15.487409,
          "end_time": "2022-07-24T12:30:29.417134",
          "exception": false,
          "start_time": "2022-07-24T12:30:13.929725",
          "status": "completed"
        },
        "tags": [],
        "pycharm": {}
      },
      "outputs": [
        {
          "name": "stdout",
          "output_type": "stream",
          "text": [
            "cls sl5 model:  10\n"
          ]
        }
      ],
      "source": [
        "for num_fold in [0]: # 0.884 models\n",
        "    model \u003d smp.Unet(\u0027efficientnet-b7\u0027, in_channels\u003d5, classes\u003d3, aux_params\u003daux_params, encoder_weights\u003dNone)\n",
        "    model \u003d torch.nn.DataParallel(model).cuda()\n",
        "    state \u003d torch.load(\"../input/unet-b7-slice5-s320-swa-f1234-add0/b7_v2_s320_sl5_swa_0.pth.tar\")\n",
        "    model.load_state_dict(state[\u0027state_dict\u0027])\n",
        "    model.eval()\n",
        "    cls_sl5_model_list.append(model)\n",
        "\n",
        "for num_fold in [1, 2, 3, 4]:\n",
        "    model \u003d smp.Unet(\u0027efficientnet-b7\u0027, in_channels\u003d5, classes\u003d3, aux_params\u003daux_params, encoder_weights\u003dNone)\n",
        "    model \u003d torch.nn.DataParallel(model).cuda()\n",
        "    state \u003d torch.load(\"../input/unet-b7-slice5-s320-swa-f1234/b7_v2_s320_sl5_swa_%s.pth.tar\" % num_fold)\n",
        "    model.load_state_dict(state[\u0027state_dict\u0027])\n",
        "    model.eval()\n",
        "    cls_sl5_model_list.append(model)\n",
        "\n",
        "print(\"cls sl5 model: \", len(cls_sl5_model_list))"
      ]
    },
    {
      "cell_type": "code",
      "execution_count": 17,
      "id": "66cf79e1",
      "metadata": {
        "execution": {
          "iopub.execute_input": "2022-07-24T12:30:29.494852Z",
          "iopub.status.busy": "2022-07-24T12:30:29.493131Z",
          "iopub.status.idle": "2022-07-24T12:30:46.166640Z",
          "shell.execute_reply": "2022-07-24T12:30:46.166151Z"
        },
        "papermill": {
          "duration": 16.714968,
          "end_time": "2022-07-24T12:30:46.166784",
          "exception": false,
          "start_time": "2022-07-24T12:30:29.451816",
          "status": "completed"
        },
        "tags": [],
        "pycharm": {}
      },
      "outputs": [
        {
          "name": "stdout",
          "output_type": "stream",
          "text": [
            "cls sl5 model:  15\n"
          ]
        }
      ],
      "source": [
        "for num_fold in [0, 1]:\n",
        "    model \u003d zoo.TimmUnet(encoder\u003d\u0027tf_efficientnet_b7_ns\u0027, in_chans\u003d5, num_class\u003d3, pretrained\u003dFalse)\n",
        "    model \u003d torch.nn.DataParallel(model).cuda()\n",
        "    # write wrong , train size \u003d 320\n",
        "    state \u003d torch.load(\"../input/unet-cls-efb7ns-sl5-s384-swa-f0123/efb7ns_cls_s320_sl5_swa_%s.pth.tar\" % num_fold)\n",
        "    model.load_state_dict(state[\u0027state_dict\u0027])\n",
        "    model.eval()\n",
        "    cls_sl5_model_list.append(model)\n",
        "\n",
        "for num_fold in [2, 3, 4]:\n",
        "    model \u003d zoo.TimmUnet(encoder\u003d\u0027tf_efficientnet_b7_ns\u0027, in_chans\u003d5, num_class\u003d3, pretrained\u003dFalse)\n",
        "    model \u003d torch.nn.DataParallel(model).cuda()\n",
        "    # write wrong , train size \u003d 320\n",
        "    state \u003d torch.load(\"../input/unet-cls-efb7ns-sl5-s384-swa-rerun-f234/efb7ns_cls_s320_sl5_swa_%s.pth.tar\" % num_fold)\n",
        "    model.load_state_dict(state[\u0027state_dict\u0027])\n",
        "    model.eval()\n",
        "    cls_sl5_model_list.append(model)\n",
        "\n",
        "print(\"cls sl5 model: \", len(cls_sl5_model_list))"
      ]
    },
    {
      "cell_type": "code",
      "execution_count": 18,
      "id": "c0d62b50",
      "metadata": {
        "execution": {
          "iopub.execute_input": "2022-07-24T12:30:46.242604Z",
          "iopub.status.busy": "2022-07-24T12:30:46.241778Z",
          "iopub.status.idle": "2022-07-24T12:31:00.874232Z",
          "shell.execute_reply": "2022-07-24T12:31:00.874702Z"
        },
        "papermill": {
          "duration": 14.674263,
          "end_time": "2022-07-24T12:31:00.874863",
          "exception": false,
          "start_time": "2022-07-24T12:30:46.200600",
          "status": "completed"
        },
        "tags": [],
        "pycharm": {}
      },
      "outputs": [
        {
          "name": "stdout",
          "output_type": "stream",
          "text": [
            "cls_sl5_s352_model_list:  5\n"
          ]
        }
      ],
      "source": [
        "cls_sl5_s352_model_list \u003d []\n",
        "for num_fold in [0, 1, 2, 3, 4]:\n",
        "    model \u003d zoo2.TimmUnet_v2m(encoder\u003d\"tf_efficientnetv2_m_in21k\", in_chans\u003d5, num_class\u003d3, pretrained\u003dFalse)\n",
        "    model \u003d torch.nn.DataParallel(model).cuda()\n",
        "    state \u003d torch.load(\"../input/unet-cls-efv2m-sl5-s352-swa-f01234/efl2m_cls_s352_sl5_swa_%s_b.pth.tar\" % num_fold)\n",
        "    model.load_state_dict(state[\u0027state_dict\u0027])\n",
        "    model.eval()\n",
        "    cls_sl5_s352_model_list.append(model)\n",
        "\n",
        "print(\"cls_sl5_s352_model_list: \", len(cls_sl5_s352_model_list))"
      ]
    },
    {
      "cell_type": "code",
      "execution_count": 19,
      "id": "76072ad1",
      "metadata": {
        "execution": {
          "iopub.execute_input": "2022-07-24T12:31:00.951600Z",
          "iopub.status.busy": "2022-07-24T12:31:00.951064Z",
          "iopub.status.idle": "2022-07-24T12:31:00.954418Z",
          "shell.execute_reply": "2022-07-24T12:31:00.953975Z"
        },
        "papermill": {
          "duration": 0.044925,
          "end_time": "2022-07-24T12:31:00.954576",
          "exception": false,
          "start_time": "2022-07-24T12:31:00.909651",
          "status": "completed"
        },
        "tags": [],
        "pycharm": {}
      },
      "outputs": [],
      "source": [
        "RESIZE_SIZE \u003d 320\n",
        "\n",
        "test_transform \u003d albumentations.Compose([\n",
        "    albumentations.Resize(RESIZE_SIZE, RESIZE_SIZE, p\u003d1),\n",
        "    albumentations.Normalize(mean\u003d(0.485, 0.456, 0.406), std\u003d(0.229, 0.224, 0.225), max_pixel_value\u003d255.0, p\u003d1.0)\n",
        "])\n",
        "\n",
        "test_transform_slice_5 \u003d albumentations.Compose([\n",
        "    albumentations.Resize(RESIZE_SIZE, RESIZE_SIZE, p\u003d1),\n",
        "    albumentations.Normalize(mean\u003d(0.108, 0.108, 0.108, 0.108, 0.108), std\u003d(0.170, 0.170, 0.170, 0.170, 0.170), max_pixel_value\u003d255.0, p\u003d1.0)\n",
        "])\n",
        "\n",
        "test_transform_slice_5_s352 \u003d albumentations.Compose([\n",
        "    albumentations.Resize(352, 352, p\u003d1),\n",
        "    albumentations.Normalize(mean\u003d(0.108, 0.108, 0.108, 0.108, 0.108), std\u003d(0.170, 0.170, 0.170, 0.170, 0.170), max_pixel_value\u003d255.0, p\u003d1.0)\n",
        "])\n",
        "\n",
        "# test_transform_384 \u003d albumentations.Compose([\n",
        "#     albumentations.Resize(384, 384, p\u003d1),\n",
        "#     albumentations.Normalize(mean\u003d(0.485, 0.456, 0.406), std\u003d(0.229, 0.224, 0.225), max_pixel_value\u003d255.0, p\u003d1.0)\n",
        "# ])"
      ]
    },
    {
      "cell_type": "code",
      "execution_count": 20,
      "id": "c9902a2b",
      "metadata": {
        "execution": {
          "iopub.execute_input": "2022-07-24T12:31:01.033872Z",
          "iopub.status.busy": "2022-07-24T12:31:01.025262Z",
          "iopub.status.idle": "2022-07-24T12:31:01.036124Z",
          "shell.execute_reply": "2022-07-24T12:31:01.035726Z"
        },
        "papermill": {
          "duration": 0.048021,
          "end_time": "2022-07-24T12:31:01.036227",
          "exception": false,
          "start_time": "2022-07-24T12:31:00.988206",
          "status": "completed"
        },
        "tags": [],
        "pycharm": {}
      },
      "outputs": [],
      "source": [
        "def pooling(data, m, n, key\u003d\u0027mean\u0027):\n",
        "    h, w \u003d data.shape\n",
        "    img_new \u003d []\n",
        "    res \u003d []\n",
        "    for i in range(0, h, m):\n",
        "        line \u003d []\n",
        "        for j in range(0, w, n):\n",
        "            x \u003d data[i:i + m, j:j + n]  # 选取池化区域\n",
        "            if key \u003d\u003d \u0027mean\u0027:  # 平均池化\n",
        "                res.append(np.sum(x[:, :] / (n * m)))\n",
        "            elif key \u003d\u003d \u0027max\u0027:  # 均值池化\n",
        "                line.append([np.max(x[:, :, 0]), np.max(x[:, :, 1]), np.max(x[:, :, 2])])\n",
        "            else:\n",
        "                return data\n",
        "        img_new.append(line)\n",
        "\n",
        "    # img_new \u003d sorted(res)[0:-2]\n",
        "    # print(img_new)\n",
        "    return np.array(res, dtype\u003d\u0027float32\u0027)\n",
        "\n",
        "\n",
        "def normal_img(img, bbox, avp_k\u003d16):\n",
        "    img_cp \u003d img.copy()\n",
        "\n",
        "    imgx \u003d img.copy()\n",
        "    \n",
        "    # bbox \u003d [xmin, ymin, xmax, ymax]\n",
        "#     ymin \u003d bbox[1]\n",
        "#     ymax \u003d bbox[3]\n",
        "#     xmin \u003d bbox[0]\n",
        "#     xmax \u003d bbox[2]\n",
        "#     imgx \u003d imgx[ymin:ymax, xmin: xmax]\n",
        "\n",
        "#     img_new \u003d pooling(imgx, avp_k, avp_k, \u0027mean\u0027)\n",
        "    img_new \u003d imgx\n",
        "\n",
        "    img_cp \u003d img_cp.astype(np.float32)\n",
        "    img_cp \u003d (img_cp - np.min(img_new)) / (np.max(img_new) - np.min(img_new)) * 255\n",
        "    img_cp[img_cp \u003e\u003d 255] \u003d 255\n",
        "    img_cp \u003d img_cp.astype(np.uint8)\n",
        "\n",
        "    return img_cp\n",
        "\n",
        "\n",
        "def pre_precess(image_path):\n",
        "    image \u003d cv2.imread(image_path, -1)\n",
        "    image \u003d image.astype(\u0027float32\u0027)\n",
        "    mx \u003d np.max(image)\n",
        "    if mx:\n",
        "        image /\u003d mx\n",
        "    image *\u003d 255\n",
        "    return image.astype(np.uint8)\n",
        "\n",
        "\n",
        "def pre_precess2(image_path, bbox):\n",
        "    image \u003d cv2.imread(image_path, -1)\n",
        "    if image is None:\n",
        "        return None\n",
        "    return normal_img(image, bbox)"
      ]
    },
    {
      "cell_type": "code",
      "execution_count": 21,
      "id": "5ff0ccb0",
      "metadata": {
        "execution": {
          "iopub.execute_input": "2022-07-24T12:31:01.135554Z",
          "iopub.status.busy": "2022-07-24T12:31:01.113743Z",
          "iopub.status.idle": "2022-07-24T12:31:01.137310Z",
          "shell.execute_reply": "2022-07-24T12:31:01.137734Z"
        },
        "papermill": {
          "duration": 0.066849,
          "end_time": "2022-07-24T12:31:01.137857",
          "exception": false,
          "start_time": "2022-07-24T12:31:01.071008",
          "status": "completed"
        },
        "tags": [],
        "pycharm": {}
      },
      "outputs": [],
      "source": [
        "def pre_precess(image_path):\n",
        "    image \u003d cv2.imread(image_path, -1)\n",
        "    if image is None:\n",
        "        return None\n",
        "    image \u003d image.astype(\u0027float32\u0027)\n",
        "    mx \u003d np.max(image)\n",
        "    if mx:\n",
        "        image /\u003d mx\n",
        "    image *\u003d 255\n",
        "    return image.astype(np.uint8)\n",
        "\n",
        "\n",
        "def pre_precess_show(image_path):\n",
        "    # print(image_path)\n",
        "    image \u003d cv2.imread(image_path, -1)\n",
        "    image \u003d np.tile(image[..., None], [1, 1, 3])\n",
        "    if image is None:\n",
        "        return None\n",
        "    image \u003d image.astype(\u0027float32\u0027)\n",
        "    mx \u003d np.max(image)\n",
        "    if mx:\n",
        "        image /\u003d mx\n",
        "    image *\u003d 255\n",
        "\n",
        "    return image.astype(np.uint8)\n",
        "\n",
        "\n",
        "def read_stack_3_image(path, slice, bbox):\n",
        "    baseslice \u003d str(slice).zfill(4)\n",
        "    # image \u003d cv2.imread(path, -1)\n",
        "    basename \u003d os.path.basename(path)\n",
        "    dirname \u003d os.path.dirname(path)\n",
        "\n",
        "    pslice \u003d str(int(slice) - 1).zfill(4)\n",
        "    nslice \u003d str(int(slice) + 1).zfill(4)\n",
        "    image_path1 \u003d os.path.join(dirname, basename.replace(baseslice, pslice))\n",
        "    image_path2 \u003d os.path.join(dirname, basename.replace(baseslice, nslice))\n",
        "\n",
        "    img0 \u003d pre_precess2(image_path1, bbox)\n",
        "    img1 \u003d pre_precess2(path, bbox)\n",
        "    img2 \u003d pre_precess2(image_path2, bbox)\n",
        "\n",
        "    img_stack \u003d np.zeros((img1.shape[0], img1.shape[1], 3), dtype\u003dnp.uint8)\n",
        "\n",
        "    if img0 is None:\n",
        "        img0 \u003d img1.copy()\n",
        "\n",
        "    if img2 is None:\n",
        "        img2 \u003d img1.copy()\n",
        "\n",
        "    img_stack[:, :, 0] \u003d img0\n",
        "    img_stack[:, :, 1] \u003d img1\n",
        "    img_stack[:, :, 2] \u003d img2\n",
        "\n",
        "    return img_stack\n",
        "\n",
        "\n",
        "def read_stack_5_image(path, slice, bbox):\n",
        "    baseslice \u003d str(slice).zfill(4)\n",
        "\n",
        "    basename \u003d os.path.basename(path)\n",
        "    dirname \u003d os.path.dirname(path)\n",
        "    \n",
        "    pslice1 \u003d str(int(slice) - 2).zfill(4)\n",
        "    pslice2 \u003d str(int(slice) - 1).zfill(4)\n",
        "    nslice1 \u003d str(int(slice) + 1).zfill(4)\n",
        "    nslice2 \u003d str(int(slice) + 2).zfill(4)\n",
        "    \n",
        "    image_path0 \u003d os.path.join(dirname, basename.replace(baseslice, pslice1))\n",
        "    image_path1 \u003d os.path.join(dirname, basename.replace(baseslice, pslice2))\n",
        "    image_path3 \u003d os.path.join(dirname, basename.replace(baseslice, nslice1))\n",
        "    image_path4 \u003d os.path.join(dirname, basename.replace(baseslice, nslice2))\n",
        "\n",
        "    img0 \u003d pre_precess2(image_path0, bbox)\n",
        "    img1 \u003d pre_precess2(image_path1, bbox)\n",
        "    img2 \u003d pre_precess2(path, bbox)\n",
        "    img3 \u003d pre_precess2(image_path3, bbox)\n",
        "    img4 \u003d pre_precess2(image_path4, bbox)\n",
        "\n",
        "    img_stack \u003d np.zeros((img2.shape[0], img2.shape[1], 5), dtype\u003dnp.uint8)\n",
        "\n",
        "    if img0 is None:\n",
        "        img0 \u003d np.zeros((img2.shape[0], img2.shape[1]), dtype\u003dnp.uint8)\n",
        "    if img1 is None:\n",
        "        img1 \u003d np.zeros((img2.shape[0], img2.shape[1]), dtype\u003dnp.uint8)\n",
        "    if img3 is None:\n",
        "        img3 \u003d np.zeros((img2.shape[0], img2.shape[1]), dtype\u003dnp.uint8)\n",
        "    if img4 is None:\n",
        "        img4 \u003d np.zeros((img2.shape[0], img2.shape[1]), dtype\u003dnp.uint8)\n",
        "\n",
        "    img_stack[:, :, 0] \u003d img0\n",
        "    img_stack[:, :, 1] \u003d img1\n",
        "    img_stack[:, :, 2] \u003d img2\n",
        "    img_stack[:, :, 3] \u003d img3\n",
        "    img_stack[:, :, 4] \u003d img4\n",
        "\n",
        "    return img_stack\n",
        "\n",
        "class Uwmgi_Dataset_seg_test(data.Dataset):\n",
        "    def __init__(self,\n",
        "                 df\u003dNone,\n",
        "                 idx\u003dNone,\n",
        "                 transform\u003dNone\n",
        "                 ):\n",
        "        self.df \u003d df\n",
        "        self.idx \u003d np.asarray(idx)\n",
        "        self.transform \u003d transform\n",
        "        self.transform_sl5 \u003d test_transform_slice_5\n",
        "        self.transform_sl5_s352 \u003d test_transform_slice_5_s352\n",
        "\n",
        "    def __len__(self):\n",
        "        return self.idx.shape[0]\n",
        "\n",
        "    def __getitem__(self, index):\n",
        "        index \u003d self.idx[index]\n",
        "        image_path \u003d self.df.iloc[index].image_path\n",
        "        image_id \u003d self.df.iloc[index].id\n",
        "        \n",
        "        ymin \u003d self.df.iloc[index].ymin\n",
        "        ymax \u003d self.df.iloc[index].ymax\n",
        "        xmin \u003d self.df.iloc[index].xmin\n",
        "        xmax \u003d self.df.iloc[index].xmax\n",
        "        \n",
        "        bbox \u003d [xmin, ymin, xmax, ymax]\n",
        "        slice_id \u003d self.df.iloc[index].slice\n",
        "        \n",
        "        image_sl3 \u003d read_stack_3_image(image_path, slice_id, bbox)\n",
        "        shape \u003d image_sl3.shape\n",
        "        \n",
        "        image_sl5 \u003d read_stack_5_image(image_path, slice_id, bbox)\n",
        "        \n",
        "        image_sl3_crop \u003d image_sl3[ymin:ymax, xmin: xmax, :]\n",
        "        image_sl5_crop \u003d image_sl5[ymin:ymax, xmin: xmax, :]\n",
        "\n",
        "        if self.transform is not None:\n",
        "            augmented_sl3 \u003d self.transform(image\u003dimage_sl3_crop)\n",
        "            image_sl3_ts \u003d augmented_sl3[\u0027image\u0027].transpose(2, 0, 1)\n",
        "        \n",
        "        if self.transform_sl5 is not None:\n",
        "            augmented_sl5 \u003d self.transform_sl5(image\u003dimage_sl5_crop)\n",
        "            image_sl5_ts \u003d augmented_sl5[\u0027image\u0027].transpose(2, 0, 1)\n",
        "        \n",
        "        if self.transform_sl5_s352 is not None:\n",
        "            augmented_sl5_s352 \u003d self.transform_sl5_s352(image\u003dimage_sl5_crop)\n",
        "            image_sl5_s352_ts \u003d augmented_sl5_s352[\u0027image\u0027].transpose(2, 0, 1)\n",
        "        \n",
        "        bbox \u003d torch.FloatTensor(bbox)\n",
        "        shape \u003d torch.FloatTensor(shape)\n",
        "        \n",
        "        return image_sl3_ts, image_sl5_ts, image_sl5_s352_ts, image_id, bbox, shape, image_path"
      ]
    },
    {
      "cell_type": "code",
      "execution_count": 22,
      "id": "5105834c",
      "metadata": {
        "execution": {
          "iopub.execute_input": "2022-07-24T12:31:01.212410Z",
          "iopub.status.busy": "2022-07-24T12:31:01.210890Z",
          "iopub.status.idle": "2022-07-24T12:31:01.213019Z",
          "shell.execute_reply": "2022-07-24T12:31:01.213407Z"
        },
        "papermill": {
          "duration": 0.041702,
          "end_time": "2022-07-24T12:31:01.213553",
          "exception": false,
          "start_time": "2022-07-24T12:31:01.171851",
          "status": "completed"
        },
        "tags": [],
        "pycharm": {}
      },
      "outputs": [],
      "source": [
        "c_test \u003d np.where((sub_df[\u0027id\u0027] !\u003d \"train\"))[0]\n",
        "test_dataset \u003d Uwmgi_Dataset_seg_test(path_df, c_test, test_transform)\n",
        "\n",
        "test_loader \u003d torch.utils.data.DataLoader(\n",
        "    test_dataset,\n",
        "    batch_size\u003d16,\n",
        "    shuffle\u003dFalse,\n",
        "    num_workers\u003d2,\n",
        "    pin_memory\u003dTrue,\n",
        "    drop_last\u003dFalse)\n"
      ]
    },
    {
      "cell_type": "code",
      "execution_count": 23,
      "id": "93f31dc8",
      "metadata": {
        "execution": {
          "iopub.execute_input": "2022-07-24T12:31:01.289142Z",
          "iopub.status.busy": "2022-07-24T12:31:01.287599Z",
          "iopub.status.idle": "2022-07-24T12:31:01.289776Z",
          "shell.execute_reply": "2022-07-24T12:31:01.290176Z"
        },
        "papermill": {
          "duration": 0.042034,
          "end_time": "2022-07-24T12:31:01.290287",
          "exception": false,
          "start_time": "2022-07-24T12:31:01.248253",
          "status": "completed"
        },
        "tags": [],
        "pycharm": {}
      },
      "outputs": [],
      "source": [
        "def post_process_minsize(mask, min_size):\n",
        "    \u0027\u0027\u0027Post processing of each predicted mask, components with lesser number of pixels\n",
        "    than `min_size` are ignored\u0027\u0027\u0027\n",
        "    num_component, component \u003d cv2.connectedComponents(mask.astype(np.uint8))\n",
        "    predictions \u003d np.zeros(mask.shape, np.float32)\n",
        "    num \u003d 0\n",
        "    for c in range(1, num_component):\n",
        "        p \u003d (component \u003d\u003d c)\n",
        "        if p.sum() \u003e min_size:\n",
        "            predictions[p] \u003d 1\n",
        "            num +\u003d 1\n",
        "    return predictions, num"
      ]
    },
    {
      "cell_type": "code",
      "execution_count": 24,
      "id": "88196502",
      "metadata": {
        "execution": {
          "iopub.execute_input": "2022-07-24T12:31:01.363521Z",
          "iopub.status.busy": "2022-07-24T12:31:01.363001Z",
          "iopub.status.idle": "2022-07-24T12:31:01.366380Z",
          "shell.execute_reply": "2022-07-24T12:31:01.365953Z"
        },
        "papermill": {
          "duration": 0.042338,
          "end_time": "2022-07-24T12:31:01.366514",
          "exception": false,
          "start_time": "2022-07-24T12:31:01.324176",
          "status": "completed"
        },
        "tags": [],
        "pycharm": {}
      },
      "outputs": [],
      "source": [
        "path_df[\u0027pos_flag\u0027] \u003d path_df.slice.map(lambda x: 0)\n",
        "dict_cls_ens \u003d {}"
      ]
    },
    {
      "cell_type": "code",
      "execution_count": 25,
      "id": "d5003782",
      "metadata": {
        "execution": {
          "iopub.execute_input": "2022-07-24T12:31:01.452679Z",
          "iopub.status.busy": "2022-07-24T12:31:01.451754Z",
          "iopub.status.idle": "2022-07-24T12:32:09.906144Z",
          "shell.execute_reply": "2022-07-24T12:32:09.906653Z"
        },
        "papermill": {
          "duration": 68.506216,
          "end_time": "2022-07-24T12:32:09.906835",
          "exception": false,
          "start_time": "2022-07-24T12:31:01.400619",
          "status": "completed"
        },
        "tags": [],
        "pycharm": {}
      },
      "outputs": [
        {
          "name": "stdout",
          "output_type": "stream",
          "text": [
            "debug: True\n"
          ]
        },
        {
          "name": "stderr",
          "output_type": "stream",
          "text": [
            "  0%|          | 0/12 [00:00\u003c?, ?it/s]/opt/conda/lib/python3.7/site-packages/torch/nn/functional.py:3487: UserWarning: nn.functional.upsample is deprecated. Use nn.functional.interpolate instead.\n",
            "  warnings.warn(\"nn.functional.upsample is deprecated. Use nn.functional.interpolate instead.\")\n",
            "/opt/conda/lib/python3.7/site-packages/torch/nn/functional.py:3613: UserWarning: Default upsampling behavior when mode\u003dbilinear is changed to align_corners\u003dFalse since 0.4.0. Please specify align_corners\u003dTrue if the old behavior is desired. See the documentation of nn.Upsample for details.\n",
            "  \"See the documentation of nn.Upsample for details.\".format(mode)\n",
            "100%|██████████| 12/12 [01:08\u003c00:00,  5.70s/it]\n"
          ]
        }
      ],
      "source": [
        "cls_threshold \u003d 0.5\n",
        "seg_threshold \u003d 0.4\n",
        "outputs \u003d []\n",
        "# ([\u0027stomach\u0027, \u0027large_bowel\u0027, \u0027small_bowel\u0027]):\n",
        "# case2_day1_slice_0001,large_bowel,\n",
        "# case2_day1_slice_0001,small_bowel,\n",
        "# case2_day1_slice_0001,stomach,\n",
        "print(\"debug:\", debug)\n",
        "with torch.no_grad():\n",
        "    # for index, input_msg in enumerate(test_loader):\n",
        "    for index, (input_batch, input_batch_sl5, input_batch_sl5_s352, id_batch, input_crop, input_shape, input_path) in enumerate(tqdm(test_loader)):\n",
        "        \n",
        "        batch_preds \u003d []\n",
        "#         for j in range(5):  # 5fold\n",
        "#             batch_pred, _ \u003d cls_model_list[j](input_batch.cuda())\n",
        "#             batch_pred \u003d batch_pred.sigmoid()\n",
        "#             batch_pred \u003d batch_pred.detach().cpu().numpy()\n",
        "#             batch_preds.append(batch_pred)\n",
        "            \n",
        "        for j in range(15):  # 5fold\n",
        "            batch_pred, _ \u003d cls_sl5_model_list[j](input_batch_sl5.cuda())\n",
        "            batch_pred \u003d batch_pred.sigmoid()\n",
        "            batch_pred \u003d batch_pred.detach().cpu().numpy()\n",
        "            batch_preds.append(batch_pred)\n",
        "        \n",
        "        for j in range(5):  # 5fold\n",
        "            batch_pred, _ \u003d cls_sl5_s352_model_list[j](input_batch_sl5_s352.cuda())\n",
        "            batch_pred \u003d batch_pred.sigmoid()\n",
        "            batch_pred \u003d F.upsample(batch_pred.detach().cpu().float(), size\u003d(320, 320), mode\u003d\u0027bilinear\u0027).numpy()\n",
        "            # batch_pred \u003d batch_pred.detach().cpu().numpy()\n",
        "            batch_preds.append(batch_pred)\n",
        "\n",
        "        output_seg \u003d np.mean(batch_preds, 0)\n",
        "        \n",
        "        for idx in range(len(id_batch)):\n",
        "            id_name \u003d id_batch[idx]\n",
        "            img_output_seg \u003d output_seg[idx, :, :, :]\n",
        "            crop_bbox \u003d input_crop[idx]\n",
        "            image_shape \u003d input_shape[idx, :]\n",
        "            image_path \u003d input_path[idx]\n",
        "            \n",
        "            xmin, ymin, xmax, ymax \u003d int(crop_bbox[0]), int(crop_bbox[1]), int(crop_bbox[2]), int(crop_bbox[3])\n",
        "            \n",
        "            masks \u003d cv2.threshold(img_output_seg, cls_threshold, 1, cv2.THRESH_BINARY)[1]\n",
        "            masks \u003d masks.transpose(1, 2, 0).astype(np.uint8)\n",
        "            masks \u003d cv2.resize(masks, (xmax - xmin, ymax - ymin))\n",
        "            \n",
        "            if np.max(masks) \u003e 0:\n",
        "                path_df.loc[path_df.image_id \u003d\u003d id_name, \u0027pos_flag\u0027] \u003d 1\n",
        "            else:\n",
        "                path_df.loc[path_df.image_id \u003d\u003d id_name, \u0027pos_flag\u0027] \u003d 0\n",
        "\n",
        "            dict_cls_ens[id_name] \u003d []\n",
        "            for cidx in range(3):\n",
        "                if np.max(masks[:, :, cidx]) \u003e 0:\n",
        "                    dict_cls_ens[id_name].append(1)\n",
        "                else:\n",
        "                    dict_cls_ens[id_name].append(0)\n",
        "            \n",
        "            masks_zeros \u003d np.zeros((int(image_shape[0]), int(image_shape[1]), int(image_shape[2])), dtype\u003dnp.uint8)\n",
        "#             for cidx in range(3):\n",
        "#                 if np.max(masks[:, :, cidx]) \u003e 0:\n",
        "#                     save_mask, _ \u003d post_process_minsize(masks[:, :, cidx], 25)\n",
        "#                     masks_zeros[ymin:ymax, xmin: xmax, cidx] \u003d save_mask\n",
        "#                 else:\n",
        "#                     masks_zeros[ymin:ymax, xmin: xmax, cidx] \u003d masks[:, :, cidx]\n",
        "            \n",
        "            outputs.append([id_name, \"large_bowel\", rle_encode(masks_zeros[:, :, 1])])\n",
        "            outputs.append([id_name, \"small_bowel\", rle_encode(masks_zeros[:, :, 2])])\n",
        "            outputs.append([id_name, \"stomach\", rle_encode(masks_zeros[:, :, 0])])\n"
      ]
    },
    {
      "cell_type": "code",
      "execution_count": 26,
      "id": "751857dd",
      "metadata": {
        "execution": {
          "iopub.execute_input": "2022-07-24T12:32:10.096068Z",
          "iopub.status.busy": "2022-07-24T12:32:10.095169Z",
          "iopub.status.idle": "2022-07-24T12:32:10.097352Z",
          "shell.execute_reply": "2022-07-24T12:32:10.097757Z"
        },
        "papermill": {
          "duration": 0.149982,
          "end_time": "2022-07-24T12:32:10.097915",
          "exception": false,
          "start_time": "2022-07-24T12:32:09.947933",
          "status": "completed"
        },
        "tags": [],
        "pycharm": {}
      },
      "outputs": [],
      "source": [
        "del cls_model_list, cls_sl5_model_list, cls_sl5_s352_model_list"
      ]
    },
    {
      "cell_type": "code",
      "execution_count": 27,
      "id": "4381081c",
      "metadata": {
        "execution": {
          "iopub.execute_input": "2022-07-24T12:32:10.180876Z",
          "iopub.status.busy": "2022-07-24T12:32:10.180079Z",
          "iopub.status.idle": "2022-07-24T12:32:10.636126Z",
          "shell.execute_reply": "2022-07-24T12:32:10.636664Z"
        },
        "papermill": {
          "duration": 0.498641,
          "end_time": "2022-07-24T12:32:10.636866",
          "exception": false,
          "start_time": "2022-07-24T12:32:10.138225",
          "status": "completed"
        },
        "tags": [],
        "pycharm": {}
      },
      "outputs": [],
      "source": [
        "torch.cuda.empty_cache()"
      ]
    },
    {
      "cell_type": "code",
      "execution_count": 28,
      "id": "5edbb468",
      "metadata": {
        "execution": {
          "iopub.execute_input": "2022-07-24T12:32:10.950734Z",
          "iopub.status.busy": "2022-07-24T12:32:10.949570Z",
          "iopub.status.idle": "2022-07-24T12:32:10.953427Z",
          "shell.execute_reply": "2022-07-24T12:32:10.953852Z"
        },
        "papermill": {
          "duration": 0.277097,
          "end_time": "2022-07-24T12:32:10.954004",
          "exception": false,
          "start_time": "2022-07-24T12:32:10.676907",
          "status": "completed"
        },
        "tags": [],
        "pycharm": {}
      },
      "outputs": [
        {
          "data": {
            "text/plain": [
              "99"
            ]
          },
          "execution_count": 28,
          "metadata": {},
          "output_type": "execute_result"
        }
      ],
      "source": [
        "import gc\n",
        "gc.collect()"
      ]
    },
    {
      "cell_type": "code",
      "execution_count": 29,
      "id": "bd2b4a07",
      "metadata": {
        "execution": {
          "iopub.execute_input": "2022-07-24T12:32:11.049087Z",
          "iopub.status.busy": "2022-07-24T12:32:11.040874Z",
          "iopub.status.idle": "2022-07-24T12:32:11.051893Z",
          "shell.execute_reply": "2022-07-24T12:32:11.052494Z"
        },
        "papermill": {
          "duration": 0.058859,
          "end_time": "2022-07-24T12:32:11.052663",
          "exception": false,
          "start_time": "2022-07-24T12:32:10.993804",
          "status": "completed"
        },
        "tags": [],
        "pycharm": {}
      },
      "outputs": [
        {
          "name": "stdout",
          "output_type": "stream",
          "text": [
            "[\u0027case2_day1_slice_0001\u0027, \u0027case2_day1_slice_0002\u0027, \u0027case2_day1_slice_0003\u0027, \u0027case2_day1_slice_0004\u0027, \u0027case2_day1_slice_0005\u0027, \u0027case2_day1_slice_0006\u0027, \u0027case2_day1_slice_0007\u0027, \u0027case2_day1_slice_0008\u0027, \u0027case2_day1_slice_0009\u0027, \u0027case2_day1_slice_0010\u0027]\n"
          ]
        }
      ],
      "source": [
        "# post process\n",
        "from copy import deepcopy\n",
        "dict_data_cp \u003d deepcopy(dict_cls_ens)\n",
        "sorted_key \u003d sorted(dict_data_cp)\n",
        "print(sorted_key[0:10])\n",
        "len_sorted_key \u003d len(sorted_key)\n",
        "for idx, key in enumerate(sorted_key):\n",
        "    if idx \u003c 2 or idx \u003e len_sorted_key - 2:\n",
        "        continue\n",
        "    for cat in range(3):\n",
        "        if dict_data_cp[key][cat] \u003d\u003d 0:\n",
        "            if dict_data_cp[sorted_key[idx - 1]][cat] \u003d\u003d 1 and dict_data_cp[sorted_key[idx - 2]][cat] \u003d\u003d 1 \\\n",
        "                    and dict_data_cp[sorted_key[idx + 1]][cat] \u003d\u003d 1 and dict_data_cp[sorted_key[idx + 2]][cat] \u003d\u003d 1:\n",
        "                dict_cls_ens[key][cat] \u003d 1\n",
        "\n",
        "        if dict_data_cp[key][cat] \u003d\u003d 1:\n",
        "            if dict_data_cp[sorted_key[idx - 1]][cat] \u003d\u003d 0 and dict_data_cp[sorted_key[idx - 2]][cat] \u003d\u003d 0 \\\n",
        "                    and dict_data_cp[sorted_key[idx + 1]][cat] \u003d\u003d 0 and dict_data_cp[sorted_key[idx + 2]][cat] \u003d\u003d 0:\n",
        "                dict_cls_ens[key][cat] \u003d 0\n",
        "\n",
        "\n",
        "dict_data_cp \u003d deepcopy(dict_cls_ens)\n",
        "for cat in [0, 2]:\n",
        "    neg_flag \u003d True\n",
        "    for idx, key in enumerate(sorted_key):\n",
        "        if idx \u003e len_sorted_key - 3:\n",
        "            continue\n",
        "\n",
        "        if neg_flag:\n",
        "            if dict_data_cp[sorted_key[idx]][cat] \u003d\u003d 1 and dict_data_cp[sorted_key[idx + 1]][cat] \u003d\u003d 1 \\\n",
        "                    and dict_data_cp[sorted_key[idx + 2]][cat] \u003d\u003d 1:  # 连续三个为1\n",
        "                neg_flag \u003d False\n",
        "        else:\n",
        "            if dict_data_cp[sorted_key[idx]][cat] \u003d\u003d 0 and dict_data_cp[sorted_key[idx + 1]][cat] \u003d\u003d 0 \\\n",
        "                    and dict_data_cp[sorted_key[idx + 2]][cat] \u003d\u003d 0:   # 连续三个为0\n",
        "                neg_flag \u003d True\n",
        "\n",
        "        if neg_flag:\n",
        "            dict_cls_ens[key][cat] \u003d 0\n",
        "        else:\n",
        "            dict_cls_ens[key][cat] \u003d 1"
      ]
    },
    {
      "cell_type": "code",
      "execution_count": 30,
      "id": "43039a09",
      "metadata": {
        "execution": {
          "iopub.execute_input": "2022-07-24T12:32:11.138092Z",
          "iopub.status.busy": "2022-07-24T12:32:11.137283Z",
          "iopub.status.idle": "2022-07-24T12:32:11.139787Z",
          "shell.execute_reply": "2022-07-24T12:32:11.139321Z"
        },
        "papermill": {
          "duration": 0.046269,
          "end_time": "2022-07-24T12:32:11.139893",
          "exception": false,
          "start_time": "2022-07-24T12:32:11.093624",
          "status": "completed"
        },
        "tags": [],
        "pycharm": {}
      },
      "outputs": [],
      "source": [
        "# seg_model_list \u003d []\n",
        "# snapshot_path \u003d r\u0027../input/unet-seg-s320-e24-f01234\u0027\n",
        "# for num_fold in range(5):\n",
        "#     model \u003d smp.Unet(\u0027efficientnet-b7\u0027, encoder_weights\u003dNone, classes\u003d3, aux_params\u003daux_params)\n",
        "#     model \u003d torch.nn.DataParallel(model).cuda()\n",
        "#     state \u003d torch.load(snapshot_path + \u0027/model_epoch_24_%s.pth.tar\u0027 % num_fold)\n",
        "#     model.load_state_dict(state[\u0027state_dict\u0027])\n",
        "#     model.eval()\n",
        "#     seg_model_list.append(model)\n",
        "# print(\"seg model: \", len(seg_model_list))"
      ]
    },
    {
      "cell_type": "code",
      "execution_count": 31,
      "id": "49ce2b6f",
      "metadata": {
        "execution": {
          "iopub.execute_input": "2022-07-24T12:32:11.225695Z",
          "iopub.status.busy": "2022-07-24T12:32:11.224856Z",
          "iopub.status.idle": "2022-07-24T12:32:11.226905Z",
          "shell.execute_reply": "2022-07-24T12:32:11.227270Z"
        },
        "papermill": {
          "duration": 0.046498,
          "end_time": "2022-07-24T12:32:11.227396",
          "exception": false,
          "start_time": "2022-07-24T12:32:11.180898",
          "status": "completed"
        },
        "tags": [],
        "pycharm": {}
      },
      "outputs": [],
      "source": [
        "# seg_model_384_list \u003d []\n",
        "# snapshot_path \u003d r\u0027../input/unet-b5ns-s384-e19-f5x\u0027\n",
        "# for num_fold in range(5):\n",
        "#     model \u003d smp.Unet(\u0027timm-efficientnet-b5\u0027, encoder_weights\u003dNone, classes\u003d3, aux_params\u003daux_params)\n",
        "#     model \u003d torch.nn.DataParallel(model).cuda()\n",
        "#     state \u003d torch.load(snapshot_path + \u0027/model_epoch_19_%s.pth.tar\u0027 % num_fold)\n",
        "#     model.load_state_dict(state[\u0027state_dict\u0027])\n",
        "#     model.eval()\n",
        "#     seg_model_384_list.append(model)\n",
        "    \n",
        "# print(\"384 seg model: \", len(seg_model_384_list))"
      ]
    },
    {
      "cell_type": "code",
      "execution_count": 32,
      "id": "21919cd7",
      "metadata": {
        "execution": {
          "iopub.execute_input": "2022-07-24T12:32:11.317452Z",
          "iopub.status.busy": "2022-07-24T12:32:11.316658Z",
          "iopub.status.idle": "2022-07-24T12:32:48.322111Z",
          "shell.execute_reply": "2022-07-24T12:32:48.322729Z"
        },
        "papermill": {
          "duration": 37.055382,
          "end_time": "2022-07-24T12:32:48.322926",
          "exception": false,
          "start_time": "2022-07-24T12:32:11.267544",
          "status": "completed"
        },
        "tags": [],
        "pycharm": {}
      },
      "outputs": [
        {
          "name": "stdout",
          "output_type": "stream",
          "text": [
            "384 seg model:  5\n"
          ]
        }
      ],
      "source": [
        "seg_model_384_list \u003d []\n",
        "snapshot_path \u003d r\u0027../input/unet-seg-efv2-sl5-s384-swa-f0123\u0027\n",
        "for num_fold in range(4):\n",
        "    model \u003d zoo.TimmUnet(encoder\u003d\u0027tf_efficientnetv2_l_in21k\u0027, in_chans\u003d5, num_class\u003d3, pretrained\u003dFalse)\n",
        "    model \u003d torch.nn.DataParallel(model).cuda()\n",
        "    state \u003d torch.load(snapshot_path + \u0027/efv2_seg_s384_sl5_swa_%s.pth.tar\u0027 % num_fold)\n",
        "    model.load_state_dict(state[\u0027state_dict\u0027])\n",
        "    model.eval()\n",
        "    seg_model_384_list.append(model)\n",
        "\n",
        "for num_fold in range(1):\n",
        "    model \u003d zoo.TimmUnet(encoder\u003d\u0027tf_efficientnetv2_l_in21k\u0027, in_chans\u003d5, num_class\u003d3, pretrained\u003dFalse)\n",
        "    model \u003d torch.nn.DataParallel(model).cuda()\n",
        "    state \u003d torch.load(\"../input/unet-seg-efv2-sl5-s384-swa-f4/efv2_seg_s384_sl5_swa_4.pth.tar\")\n",
        "    model.load_state_dict(state[\u0027state_dict\u0027])\n",
        "    model.eval()\n",
        "    seg_model_384_list.append(model)\n",
        "    \n",
        "print(\"384 seg model: \", len(seg_model_384_list))"
      ]
    },
    {
      "cell_type": "code",
      "execution_count": 33,
      "id": "270394aa",
      "metadata": {
        "execution": {
          "iopub.execute_input": "2022-07-24T12:32:48.409977Z",
          "iopub.status.busy": "2022-07-24T12:32:48.409417Z",
          "iopub.status.idle": "2022-07-24T12:32:48.412790Z",
          "shell.execute_reply": "2022-07-24T12:32:48.412328Z"
        },
        "papermill": {
          "duration": 0.04845,
          "end_time": "2022-07-24T12:32:48.412896",
          "exception": false,
          "start_time": "2022-07-24T12:32:48.364446",
          "status": "completed"
        },
        "tags": [],
        "pycharm": {}
      },
      "outputs": [],
      "source": [
        "# for num_fold in [0, 1, 2, 3, 4]: # \n",
        "#     model \u003d smp.Unet(\u0027efficientnet-b7\u0027, in_channels\u003d5, classes\u003d3, aux_params\u003daux_params, encoder_weights\u003dNone)\n",
        "#     model \u003d torch.nn.DataParallel(model).cuda()\n",
        "#     state \u003d torch.load(\"../input/unet-seg-efb7smp-sl5-s384-swa-f01234/efb7_seg_s384_sl5_swa_%s.pth.tar\" % num_fold)\n",
        "#     model.load_state_dict(state[\u0027state_dict\u0027])\n",
        "#     model.eval()\n",
        "#     seg_model_384_list.append(model)\n",
        "\n",
        "# print(\"384 seg model: \", len(seg_model_384_list))"
      ]
    },
    {
      "cell_type": "code",
      "execution_count": 34,
      "id": "5e7b7746",
      "metadata": {
        "execution": {
          "iopub.execute_input": "2022-07-24T12:32:48.503523Z",
          "iopub.status.busy": "2022-07-24T12:32:48.502683Z",
          "iopub.status.idle": "2022-07-24T12:33:23.089440Z",
          "shell.execute_reply": "2022-07-24T12:33:23.090207Z"
        },
        "papermill": {
          "duration": 34.636971,
          "end_time": "2022-07-24T12:33:23.090447",
          "exception": false,
          "start_time": "2022-07-24T12:32:48.453476",
          "status": "completed"
        },
        "tags": [],
        "pycharm": {}
      },
      "outputs": [
        {
          "name": "stdout",
          "output_type": "stream",
          "text": [
            "416 seg model:  5\n"
          ]
        }
      ],
      "source": [
        "seg_model_416_list \u003d []\n",
        "for num_fold in [0,1,2,3]:\n",
        "    model \u003d zoo.TimmUnet(encoder\u003d\u0027tf_efficientnetv2_l_in21k\u0027, in_chans\u003d5, num_class\u003d3, pretrained\u003dFalse)\n",
        "    model \u003d torch.nn.DataParallel(model).cuda()\n",
        "    state \u003d torch.load(\"../input/unet-efv2l-s416-sl5-swa-320p-f0/efv2m_cls_s416_sl5_swa_%s.pth.tar\" % num_fold)\n",
        "    model.load_state_dict(state[\u0027state_dict\u0027])\n",
        "    model.eval()\n",
        "    seg_model_416_list.append(model)\n",
        "\n",
        "for num_fold in [4]:\n",
        "    model \u003d zoo.TimmUnet(encoder\u003d\u0027tf_efficientnetv2_l_in21k\u0027, in_chans\u003d5, num_class\u003d3, pretrained\u003dFalse)\n",
        "    model \u003d torch.nn.DataParallel(model).cuda()\n",
        "    state \u003d torch.load(\"../input/unet-efv2l-s416-sl5-swa-384p-f0/efv2_l_cls_s416_sl5_swa_4.pth.tar\")\n",
        "    model.load_state_dict(state[\u0027state_dict\u0027])\n",
        "    model.eval()\n",
        "    seg_model_416_list.append(model)\n",
        "# \n",
        "print(\"416 seg model: \", len(seg_model_416_list))"
      ]
    },
    {
      "cell_type": "code",
      "execution_count": 35,
      "id": "292ea164",
      "metadata": {
        "execution": {
          "iopub.execute_input": "2022-07-24T12:33:23.185993Z",
          "iopub.status.busy": "2022-07-24T12:33:23.181307Z",
          "iopub.status.idle": "2022-07-24T12:33:48.723757Z",
          "shell.execute_reply": "2022-07-24T12:33:48.724610Z"
        },
        "papermill": {
          "duration": 25.591725,
          "end_time": "2022-07-24T12:33:48.724816",
          "exception": false,
          "start_time": "2022-07-24T12:33:23.133091",
          "status": "completed"
        },
        "tags": [],
        "pycharm": {}
      },
      "outputs": [
        {
          "name": "stdout",
          "output_type": "stream",
          "text": [
            "416 seg model:  9\n"
          ]
        }
      ],
      "source": [
        "model \u003d zoo.TimmUnet(encoder\u003d\u0027tf_efficientnetv2_l_in21k\u0027, in_chans\u003d5, num_class\u003d3, pretrained\u003dFalse)\n",
        "model \u003d torch.nn.DataParallel(model).cuda()\n",
        "state \u003d torch.load(\"../input/unet-efv2-seg-sl5-s416-swa-384-f0123/efv2l_seg_s416_sl5_swa_0.pth.tar\")\n",
        "model.load_state_dict(state[\u0027state_dict\u0027])\n",
        "model.eval()\n",
        "seg_model_416_list.append(model)\n",
        "\n",
        "model \u003d zoo.TimmUnet(encoder\u003d\u0027tf_efficientnetv2_l_in21k\u0027, in_chans\u003d5, num_class\u003d3, pretrained\u003dFalse)\n",
        "model \u003d torch.nn.DataParallel(model).cuda()\n",
        "state \u003d torch.load(\"../input/unet-efv2-seg-sl5-s416-swa-384-f0123/efv2l_seg_s416_sl5_swa_1.pth.tar\")\n",
        "model.load_state_dict(state[\u0027state_dict\u0027])\n",
        "model.eval()\n",
        "seg_model_416_list.append(model)\n",
        "\n",
        "model \u003d zoo.TimmUnet(encoder\u003d\u0027tf_efficientnetv2_l_in21k\u0027, in_chans\u003d5, num_class\u003d3, pretrained\u003dFalse)\n",
        "model \u003d torch.nn.DataParallel(model).cuda()\n",
        "state \u003d torch.load(\"../input/unet-efv2-seg-sl5-s416-swa-384-f0123/efv2_l_cls_s416_sl5_swa_2.pth.tar\")\n",
        "model.load_state_dict(state[\u0027state_dict\u0027])\n",
        "model.eval()\n",
        "seg_model_416_list.append(model)\n",
        "\n",
        "model \u003d zoo.TimmUnet(encoder\u003d\u0027tf_efficientnetv2_l_in21k\u0027, in_chans\u003d5, num_class\u003d3, pretrained\u003dFalse)\n",
        "model \u003d torch.nn.DataParallel(model).cuda()\n",
        "state \u003d torch.load(\"../input/unet-efv2-seg-sl5-s416-swa-384-f0123/efv2_l_cls_s416_sl5_swa_3.pth.tar\")\n",
        "model.load_state_dict(state[\u0027state_dict\u0027])\n",
        "model.eval()\n",
        "seg_model_416_list.append(model)\n",
        "# \n",
        "print(\"416 seg model: \", len(seg_model_416_list))"
      ]
    },
    {
      "cell_type": "code",
      "execution_count": 36,
      "id": "81243686",
      "metadata": {
        "execution": {
          "iopub.execute_input": "2022-07-24T12:33:48.818107Z",
          "iopub.status.busy": "2022-07-24T12:33:48.817112Z",
          "iopub.status.idle": "2022-07-24T12:34:04.902535Z",
          "shell.execute_reply": "2022-07-24T12:34:04.902974Z"
        },
        "papermill": {
          "duration": 16.135815,
          "end_time": "2022-07-24T12:34:04.903127",
          "exception": false,
          "start_time": "2022-07-24T12:33:48.767312",
          "status": "completed"
        },
        "tags": [],
        "pycharm": {}
      },
      "outputs": [
        {
          "name": "stdout",
          "output_type": "stream",
          "text": [
            "416 seg model:  14\n"
          ]
        }
      ],
      "source": [
        "for num_fold in [0,1,2,3,4]:\n",
        "    model \u003d zoo2.TimmUnet_v2m(encoder\u003d\"tf_efficientnetv2_m_in21k\", in_chans\u003d5, num_class\u003d3, pretrained\u003dFalse)\n",
        "    model \u003d torch.nn.DataParallel(model).cuda()\n",
        "    state \u003d torch.load(\"../input/unet-efv2-m-cls-s416-sl5-swa-f01234/efl2m_cls_s416_sl5_swa_%s.pth.tar\" % num_fold)\n",
        "    model.load_state_dict(state[\u0027state_dict\u0027])\n",
        "    model.eval()\n",
        "    seg_model_416_list.append(model)\n",
        "# \n",
        "print(\"416 seg model: \", len(seg_model_416_list))"
      ]
    },
    {
      "cell_type": "code",
      "execution_count": 37,
      "id": "d0b6a07d",
      "metadata": {
        "execution": {
          "iopub.execute_input": "2022-07-24T12:34:05.000563Z",
          "iopub.status.busy": "2022-07-24T12:34:04.998852Z",
          "iopub.status.idle": "2022-07-24T12:34:05.001146Z",
          "shell.execute_reply": "2022-07-24T12:34:05.001574Z"
        },
        "papermill": {
          "duration": 0.054022,
          "end_time": "2022-07-24T12:34:05.001702",
          "exception": false,
          "start_time": "2022-07-24T12:34:04.947680",
          "status": "completed"
        },
        "tags": [],
        "pycharm": {}
      },
      "outputs": [],
      "source": [
        "RESIZE_SIZE \u003d 320\n",
        "\n",
        "test_transform \u003d albumentations.Compose([\n",
        "    albumentations.Resize(RESIZE_SIZE, RESIZE_SIZE, p\u003d1),\n",
        "    albumentations.Normalize(mean\u003d(0.485, 0.456, 0.406), std\u003d(0.229, 0.224, 0.225), max_pixel_value\u003d255.0, p\u003d1.0)\n",
        "])\n",
        "\n",
        "test_transform_384 \u003d albumentations.Compose([\n",
        "    albumentations.Resize(384, 384, p\u003d1),\n",
        "    albumentations.Normalize(mean\u003d(0.485, 0.456, 0.406), std\u003d(0.229, 0.224, 0.225), max_pixel_value\u003d255.0, p\u003d1.0)\n",
        "])\n",
        "\n",
        "test_transform_sl5_s384 \u003d albumentations.Compose([\n",
        "    albumentations.Resize(384, 384, p\u003d1),\n",
        "    albumentations.Normalize(mean\u003d(0.108, 0.108, 0.108, 0.108, 0.108), std\u003d(0.170, 0.170, 0.170, 0.170, 0.170), max_pixel_value\u003d255.0, p\u003d1.0)\n",
        "])\n",
        "\n",
        "test_transform_sl5_s416 \u003d albumentations.Compose([\n",
        "    albumentations.Resize(416, 416, p\u003d1),\n",
        "    albumentations.Normalize(mean\u003d(0.108, 0.108, 0.108, 0.108, 0.108), std\u003d(0.170, 0.170, 0.170, 0.170, 0.170), max_pixel_value\u003d255.0, p\u003d1.0)\n",
        "])"
      ]
    },
    {
      "cell_type": "code",
      "execution_count": 38,
      "id": "a638b135",
      "metadata": {
        "execution": {
          "iopub.execute_input": "2022-07-24T12:34:05.097667Z",
          "iopub.status.busy": "2022-07-24T12:34:05.094239Z",
          "iopub.status.idle": "2022-07-24T12:34:05.100087Z",
          "shell.execute_reply": "2022-07-24T12:34:05.099653Z"
        },
        "papermill": {
          "duration": 0.05617,
          "end_time": "2022-07-24T12:34:05.100190",
          "exception": false,
          "start_time": "2022-07-24T12:34:05.044020",
          "status": "completed"
        },
        "tags": [],
        "pycharm": {}
      },
      "outputs": [],
      "source": [
        "class Uwmgi_Dataset_seg_test(data.Dataset):\n",
        "    def __init__(self,\n",
        "                 df\u003dNone,\n",
        "                 idx\u003dNone,\n",
        "                 transform\u003dNone\n",
        "                 ):\n",
        "        self.df \u003d df\n",
        "        self.idx \u003d np.asarray(idx)\n",
        "        self.transform \u003d transform\n",
        "        self.transform_sl5_s416 \u003d test_transform_sl5_s416\n",
        "        self.transform_sl5_s384 \u003d test_transform_sl5_s384\n",
        "\n",
        "    def __len__(self):\n",
        "        return self.idx.shape[0]\n",
        "\n",
        "    def __getitem__(self, index):\n",
        "        index \u003d self.idx[index]\n",
        "        image_path \u003d self.df.iloc[index].image_path\n",
        "        image_id \u003d self.df.iloc[index].id\n",
        "\n",
        "        \n",
        "        ymin \u003d self.df.iloc[index].ymin\n",
        "        ymax \u003d self.df.iloc[index].ymax\n",
        "        xmin \u003d self.df.iloc[index].xmin\n",
        "        xmax \u003d self.df.iloc[index].xmax\n",
        "        \n",
        "        bbox \u003d [xmin, ymin, xmax, ymax]\n",
        "        slice_id \u003d self.df.iloc[index].slice\n",
        "        \n",
        "#         image \u003d read_stack_3_image(image_path, slice_id, bbox)\n",
        "        \n",
        "        image_sl5 \u003d read_stack_5_image(image_path, slice_id, bbox)\n",
        "        shape \u003d image_sl5.shape\n",
        "        \n",
        "#         image_src \u003d image[ymin:ymax, xmin: xmax, :]\n",
        "        image_src_sl5 \u003d image_sl5[ymin:ymax, xmin: xmax, :]\n",
        "\n",
        "#         if self.transform is not None:\n",
        "#             augmented320 \u003d self.transform(image\u003dimage_src)\n",
        "#             image320 \u003d augmented320[\u0027image\u0027].transpose(2, 0, 1)\n",
        "        \n",
        "        if self.transform_sl5_s416 is not None:\n",
        "            augmented_sl5_416 \u003d self.transform_sl5_s416(image\u003dimage_src_sl5)\n",
        "            image_sl5_s416 \u003d augmented_sl5_416[\u0027image\u0027].transpose(2, 0, 1)\n",
        "            \n",
        "        if self.transform_sl5_s384 is not None:\n",
        "            augmented_sl5_s384 \u003d self.transform_sl5_s384(image\u003dimage_src_sl5)\n",
        "            image_sl5_s384 \u003d augmented_sl5_s384[\u0027image\u0027].transpose(2, 0, 1)\n",
        "            \n",
        "        bbox \u003d torch.FloatTensor(bbox)\n",
        "        shape \u003d torch.FloatTensor(shape)\n",
        "        \n",
        "        return image_sl5_s416, image_sl5_s384, image_id, bbox, shape, image_path"
      ]
    },
    {
      "cell_type": "code",
      "execution_count": 39,
      "id": "6bcb6f7b",
      "metadata": {
        "execution": {
          "iopub.execute_input": "2022-07-24T12:34:05.191725Z",
          "iopub.status.busy": "2022-07-24T12:34:05.190109Z",
          "iopub.status.idle": "2022-07-24T12:34:05.193752Z",
          "shell.execute_reply": "2022-07-24T12:34:05.193277Z"
        },
        "papermill": {
          "duration": 0.051369,
          "end_time": "2022-07-24T12:34:05.193858",
          "exception": false,
          "start_time": "2022-07-24T12:34:05.142489",
          "status": "completed"
        },
        "tags": [],
        "pycharm": {}
      },
      "outputs": [
        {
          "name": "stdout",
          "output_type": "stream",
          "text": [
            "75\n"
          ]
        }
      ],
      "source": [
        "c_test \u003d np.where((path_df[\u0027pos_flag\u0027] \u003d\u003d 1))[0]\n",
        "test_dataset \u003d Uwmgi_Dataset_seg_test(path_df, c_test, test_transform)\n",
        "\n",
        "test_loader \u003d torch.utils.data.DataLoader(\n",
        "    test_dataset,\n",
        "    batch_size\u003d12,\n",
        "    shuffle\u003dFalse,\n",
        "    num_workers\u003d0,\n",
        "    pin_memory\u003dTrue,\n",
        "    drop_last\u003dFalse)\n",
        "\n",
        "print(len(c_test))"
      ]
    },
    {
      "cell_type": "code",
      "execution_count": 40,
      "id": "d84649fa",
      "metadata": {
        "execution": {
          "iopub.execute_input": "2022-07-24T12:34:05.284669Z",
          "iopub.status.busy": "2022-07-24T12:34:05.283947Z",
          "iopub.status.idle": "2022-07-24T12:34:05.285984Z",
          "shell.execute_reply": "2022-07-24T12:34:05.286350Z"
        },
        "papermill": {
          "duration": 0.050347,
          "end_time": "2022-07-24T12:34:05.286487",
          "exception": false,
          "start_time": "2022-07-24T12:34:05.236140",
          "status": "completed"
        },
        "tags": [],
        "pycharm": {}
      },
      "outputs": [],
      "source": [
        "submit \u003d pd.DataFrame(data\u003dnp.array(outputs), columns\u003d[\"id\", \"class_\", \"predicted\"])"
      ]
    },
    {
      "cell_type": "code",
      "execution_count": 41,
      "id": "1ba2bd17",
      "metadata": {
        "execution": {
          "iopub.execute_input": "2022-07-24T12:34:05.389294Z",
          "iopub.status.busy": "2022-07-24T12:34:05.388392Z",
          "iopub.status.idle": "2022-07-24T12:34:52.016990Z",
          "shell.execute_reply": "2022-07-24T12:34:52.017365Z"
        },
        "papermill": {
          "duration": 46.687773,
          "end_time": "2022-07-24T12:34:52.017538",
          "exception": false,
          "start_time": "2022-07-24T12:34:05.329765",
          "status": "completed"
        },
        "tags": [],
        "pycharm": {}
      },
      "outputs": [
        {
          "name": "stderr",
          "output_type": "stream",
          "text": [
            "100%|██████████| 7/7 [00:46\u003c00:00,  6.66s/it]\n"
          ]
        }
      ],
      "source": [
        "# seg_threshold \u003d 0.4\n",
        "outputs \u003d []\n",
        "\n",
        "with torch.no_grad():\n",
        "    # for index, input_msg in enumerate(test_loader):\n",
        "    for index, (input_batch_sl5_416, input_batch_sl5_s384, id_batch, input_crop, input_shape, input_path) in enumerate(tqdm(test_loader)):\n",
        "             \n",
        "        batch_preds_seg \u003d []\n",
        "        for j in range(14):  # 5fold\n",
        "            batch_pred_seg, _ \u003d seg_model_416_list[j](input_batch_sl5_416.cuda())\n",
        "            batch_pred_seg \u003d batch_pred_seg.sigmoid()\n",
        "            batch_pred_seg \u003d F.upsample(batch_pred_seg.detach().cpu().float(), size\u003d(384, 384), mode\u003d\u0027bilinear\u0027).numpy()\n",
        "            # batch_pred_seg \u003d batch_pred_seg.detach().cpu().numpy()\n",
        "            batch_preds_seg.append(batch_pred_seg)\n",
        "        \n",
        "        for j in range(5):  # 5fold\n",
        "            batch_pred_seg, _ \u003d seg_model_384_list[j](input_batch_sl5_s384.cuda())\n",
        "            batch_pred_seg \u003d batch_pred_seg.sigmoid()\n",
        "            batch_pred_seg \u003d batch_pred_seg.detach().cpu().numpy()\n",
        "            # batch_pred_seg \u003d F.upsample(batch_pred_seg.detach().cpu().float(), size\u003d(320, 320), mode\u003d\u0027bilinear\u0027).numpy()\n",
        "            batch_preds_seg.append(batch_pred_seg)\n",
        "        \n",
        "        output_seg_seg \u003d np.mean(batch_preds_seg, 0)\n",
        "        \n",
        "        for idx in range(len(id_batch)):\n",
        "            id_name \u003d id_batch[idx]\n",
        "            crop_bbox \u003d input_crop[idx]\n",
        "            image_shape \u003d input_shape[idx, :]\n",
        "            image_path \u003d input_path[idx]\n",
        "            \n",
        "            xmin, ymin, xmax, ymax \u003d int(crop_bbox[0]), int(crop_bbox[1]), int(crop_bbox[2]), int(crop_bbox[3])\n",
        "            \n",
        "            img_output_seg_seg \u003d output_seg_seg[idx, :, :, :]\n",
        "            masks_seg \u003d cv2.threshold(img_output_seg_seg, seg_threshold, 1, cv2.THRESH_BINARY)[1]\n",
        "            masks_seg \u003d masks_seg.transpose(1, 2, 0).astype(np.uint8)\n",
        "            masks_seg \u003d cv2.resize(masks_seg, (xmax - xmin, ymax - ymin))\n",
        "            \n",
        "            masks_zeros \u003d np.zeros((int(image_shape[0]), int(image_shape[1]), 3), dtype\u003dnp.uint8)\n",
        "            \n",
        "            for cidx in range(3):\n",
        "                if dict_cls_ens[id_name][cidx] \u003e 0:\n",
        "                    save_mask, _ \u003d post_process_minsize(masks_seg[:, :, cidx], 25)\n",
        "                    masks_zeros[ymin:ymax, xmin: xmax, cidx] \u003d save_mask\n",
        "            \n",
        "            submit.loc[(submit.id \u003d\u003d id_name) \u0026 (submit.class_ \u003d\u003d \"large_bowel\"), \"predicted\"] \u003d rle_encode(masks_zeros[:, :, 1])\n",
        "            submit.loc[(submit.id \u003d\u003d id_name) \u0026 (submit.class_ \u003d\u003d \"small_bowel\"), \"predicted\"] \u003d rle_encode(masks_zeros[:, :, 2])\n",
        "            submit.loc[(submit.id \u003d\u003d id_name) \u0026 (submit.class_ \u003d\u003d \"stomach\"), \"predicted\"] \u003d rle_encode(masks_zeros[:, :, 0])"
      ]
    },
    {
      "cell_type": "code",
      "execution_count": 42,
      "id": "954b3071",
      "metadata": {
        "execution": {
          "iopub.execute_input": "2022-07-24T12:34:52.117107Z",
          "iopub.status.busy": "2022-07-24T12:34:52.116300Z",
          "iopub.status.idle": "2022-07-24T12:34:52.120296Z",
          "shell.execute_reply": "2022-07-24T12:34:52.120907Z"
        },
        "papermill": {
          "duration": 0.057221,
          "end_time": "2022-07-24T12:34:52.121082",
          "exception": false,
          "start_time": "2022-07-24T12:34:52.063861",
          "status": "completed"
        },
        "tags": [],
        "pycharm": {}
      },
      "outputs": [
        {
          "name": "stdout",
          "output_type": "stream",
          "text": [
            "                      id        class predicted\n",
            "0  case6_day0_slice_0004  large_bowel          \n",
            "1  case6_day0_slice_0004  small_bowel          \n",
            "2  case6_day0_slice_0004      stomach          \n",
            "3  case6_day0_slice_0033  large_bowel          \n",
            "4  case6_day0_slice_0033  small_bowel          \n"
          ]
        }
      ],
      "source": [
        "submit.rename(columns\u003d{\"class_\": \"class\"}, inplace\u003dTrue)\n",
        "submit \u003d pd.DataFrame(submit)\n",
        "print(submit.head(5))"
      ]
    },
    {
      "cell_type": "code",
      "execution_count": 43,
      "id": "9567fd21",
      "metadata": {
        "execution": {
          "iopub.execute_input": "2022-07-24T12:34:52.219356Z",
          "iopub.status.busy": "2022-07-24T12:34:52.218868Z",
          "iopub.status.idle": "2022-07-24T12:34:52.249921Z",
          "shell.execute_reply": "2022-07-24T12:34:52.250334Z"
        },
        "papermill": {
          "duration": 0.082611,
          "end_time": "2022-07-24T12:34:52.250611",
          "exception": false,
          "start_time": "2022-07-24T12:34:52.168000",
          "status": "completed"
        },
        "tags": [],
        "pycharm": {}
      },
      "outputs": [
        {
          "data": {
            "text/html": [
              "\u003cdiv\u003e\n",
              "\u003cstyle scoped\u003e\n",
              "    .dataframe tbody tr th:only-of-type {\n",
              "        vertical-align: middle;\n",
              "    }\n",
              "\n",
              "    .dataframe tbody tr th {\n",
              "        vertical-align: top;\n",
              "    }\n",
              "\n",
              "    .dataframe thead th {\n",
              "        text-align: right;\n",
              "    }\n",
              "\u003c/style\u003e\n",
              "\u003ctable border\u003d\"1\" class\u003d\"dataframe\"\u003e\n",
              "  \u003cthead\u003e\n",
              "    \u003ctr style\u003d\"text-align: right;\"\u003e\n",
              "      \u003cth\u003e\u003c/th\u003e\n",
              "      \u003cth\u003eid\u003c/th\u003e\n",
              "      \u003cth\u003eclass\u003c/th\u003e\n",
              "      \u003cth\u003epredicted\u003c/th\u003e\n",
              "    \u003c/tr\u003e\n",
              "  \u003c/thead\u003e\n",
              "  \u003ctbody\u003e\n",
              "    \u003ctr\u003e\n",
              "      \u003cth\u003e0\u003c/th\u003e\n",
              "      \u003ctd\u003ecase2_day1_slice_0001\u003c/td\u003e\n",
              "      \u003ctd\u003elarge_bowel\u003c/td\u003e\n",
              "      \u003ctd\u003e\u003c/td\u003e\n",
              "    \u003c/tr\u003e\n",
              "    \u003ctr\u003e\n",
              "      \u003cth\u003e1\u003c/th\u003e\n",
              "      \u003ctd\u003ecase2_day1_slice_0001\u003c/td\u003e\n",
              "      \u003ctd\u003esmall_bowel\u003c/td\u003e\n",
              "      \u003ctd\u003e\u003c/td\u003e\n",
              "    \u003c/tr\u003e\n",
              "    \u003ctr\u003e\n",
              "      \u003cth\u003e2\u003c/th\u003e\n",
              "      \u003ctd\u003ecase2_day1_slice_0001\u003c/td\u003e\n",
              "      \u003ctd\u003estomach\u003c/td\u003e\n",
              "      \u003ctd\u003e\u003c/td\u003e\n",
              "    \u003c/tr\u003e\n",
              "    \u003ctr\u003e\n",
              "      \u003cth\u003e3\u003c/th\u003e\n",
              "      \u003ctd\u003ecase2_day1_slice_0002\u003c/td\u003e\n",
              "      \u003ctd\u003elarge_bowel\u003c/td\u003e\n",
              "      \u003ctd\u003e\u003c/td\u003e\n",
              "    \u003c/tr\u003e\n",
              "    \u003ctr\u003e\n",
              "      \u003cth\u003e4\u003c/th\u003e\n",
              "      \u003ctd\u003ecase2_day1_slice_0002\u003c/td\u003e\n",
              "      \u003ctd\u003esmall_bowel\u003c/td\u003e\n",
              "      \u003ctd\u003e\u003c/td\u003e\n",
              "    \u003c/tr\u003e\n",
              "  \u003c/tbody\u003e\n",
              "\u003c/table\u003e\n",
              "\u003c/div\u003e"
            ],
            "text/plain": [
              "                      id        class predicted\n",
              "0  case2_day1_slice_0001  large_bowel          \n",
              "1  case2_day1_slice_0001  small_bowel          \n",
              "2  case2_day1_slice_0001      stomach          \n",
              "3  case2_day1_slice_0002  large_bowel          \n",
              "4  case2_day1_slice_0002  small_bowel          "
            ]
          },
          "execution_count": 43,
          "metadata": {},
          "output_type": "execute_result"
        }
      ],
      "source": [
        "# submit \u003d pd.DataFrame(data\u003dnp.array(outputs), columns\u003d[\"id\", \"class\", \"predicted\"])\n",
        "# Fix sub error, refers to: https://www.kaggle.com/competitions/uw-madison-gi-tract-image-segmentation/discussion/320541\n",
        "if not debug:\n",
        "    sub_df \u003d pd.read_csv(\u0027../input/uw-madison-gi-tract-image-segmentation/sample_submission.csv\u0027)\n",
        "    del sub_df[\u0027predicted\u0027]\n",
        "    sub_df \u003d sub_df.merge(submit, on\u003d[\u0027id\u0027, \u0027class\u0027])\n",
        "    sub_df.to_csv(\u0027submission.csv\u0027, index\u003dFalse)\n",
        "else:\n",
        "    sub_df \u003d pd.read_csv(\u0027../input/test-examle/submission.csv\u0027)\n",
        "    del sub_df[\u0027predicted\u0027]\n",
        "    sub_df \u003d sub_df.merge(submit, on\u003d[\u0027id\u0027, \u0027class\u0027])\n",
        "    sub_df.to_csv(\u0027submission.csv\u0027, index\u003dFalse)\n",
        "    # submit.to_csv(\u0027submission.csv\u0027, index\u003dFalse)\n",
        "\n",
        "sub_df.head(5)"
      ]
    },
    {
      "cell_type": "code",
      "execution_count": 44,
      "id": "7c61f18e",
      "metadata": {
        "execution": {
          "iopub.execute_input": "2022-07-24T12:34:52.354690Z",
          "iopub.status.busy": "2022-07-24T12:34:52.353878Z",
          "iopub.status.idle": "2022-07-24T12:34:52.356991Z",
          "shell.execute_reply": "2022-07-24T12:34:52.357677Z"
        },
        "papermill": {
          "duration": 0.060942,
          "end_time": "2022-07-24T12:34:52.357859",
          "exception": false,
          "start_time": "2022-07-24T12:34:52.296917",
          "status": "completed"
        },
        "tags": [],
        "pycharm": {}
      },
      "outputs": [
        {
          "data": {
            "text/html": [
              "\u003cdiv\u003e\n",
              "\u003cstyle scoped\u003e\n",
              "    .dataframe tbody tr th:only-of-type {\n",
              "        vertical-align: middle;\n",
              "    }\n",
              "\n",
              "    .dataframe tbody tr th {\n",
              "        vertical-align: top;\n",
              "    }\n",
              "\n",
              "    .dataframe thead th {\n",
              "        text-align: right;\n",
              "    }\n",
              "\u003c/style\u003e\n",
              "\u003ctable border\u003d\"1\" class\u003d\"dataframe\"\u003e\n",
              "  \u003cthead\u003e\n",
              "    \u003ctr style\u003d\"text-align: right;\"\u003e\n",
              "      \u003cth\u003e\u003c/th\u003e\n",
              "      \u003cth\u003eid\u003c/th\u003e\n",
              "      \u003cth\u003eclass\u003c/th\u003e\n",
              "      \u003cth\u003epredicted\u003c/th\u003e\n",
              "    \u003c/tr\u003e\n",
              "  \u003c/thead\u003e\n",
              "  \u003ctbody\u003e\n",
              "    \u003ctr\u003e\n",
              "      \u003cth\u003e320\u003c/th\u003e\n",
              "      \u003ctd\u003ecase2_day1_slice_0107\u003c/td\u003e\n",
              "      \u003ctd\u003estomach\u003c/td\u003e\n",
              "      \u003ctd\u003e\u003c/td\u003e\n",
              "    \u003c/tr\u003e\n",
              "    \u003ctr\u003e\n",
              "      \u003cth\u003e321\u003c/th\u003e\n",
              "      \u003ctd\u003ecase2_day1_slice_0108\u003c/td\u003e\n",
              "      \u003ctd\u003elarge_bowel\u003c/td\u003e\n",
              "      \u003ctd\u003e21367 4 21628 11 21888 19 22151 23 22414 27 22...\u003c/td\u003e\n",
              "    \u003c/tr\u003e\n",
              "    \u003ctr\u003e\n",
              "      \u003cth\u003e322\u003c/th\u003e\n",
              "      \u003ctd\u003ecase2_day1_slice_0108\u003c/td\u003e\n",
              "      \u003ctd\u003esmall_bowel\u003c/td\u003e\n",
              "      \u003ctd\u003e20089 9 20352 14 20617 18 20882 21 21147 24 21...\u003c/td\u003e\n",
              "    \u003c/tr\u003e\n",
              "    \u003ctr\u003e\n",
              "      \u003cth\u003e323\u003c/th\u003e\n",
              "      \u003ctd\u003ecase2_day1_slice_0108\u003c/td\u003e\n",
              "      \u003ctd\u003estomach\u003c/td\u003e\n",
              "      \u003ctd\u003e\u003c/td\u003e\n",
              "    \u003c/tr\u003e\n",
              "    \u003ctr\u003e\n",
              "      \u003cth\u003e324\u003c/th\u003e\n",
              "      \u003ctd\u003ecase2_day1_slice_0109\u003c/td\u003e\n",
              "      \u003ctd\u003elarge_bowel\u003c/td\u003e\n",
              "      \u003ctd\u003e21630 7 21890 16 22154 19 22417 25 22682 27 22...\u003c/td\u003e\n",
              "    \u003c/tr\u003e\n",
              "    \u003ctr\u003e\n",
              "      \u003cth\u003e325\u003c/th\u003e\n",
              "      \u003ctd\u003ecase2_day1_slice_0109\u003c/td\u003e\n",
              "      \u003ctd\u003esmall_bowel\u003c/td\u003e\n",
              "      \u003ctd\u003e20620 12 20884 17 21148 21 21398 10 21413 24 2...\u003c/td\u003e\n",
              "    \u003c/tr\u003e\n",
              "    \u003ctr\u003e\n",
              "      \u003cth\u003e326\u003c/th\u003e\n",
              "      \u003ctd\u003ecase2_day1_slice_0109\u003c/td\u003e\n",
              "      \u003ctd\u003estomach\u003c/td\u003e\n",
              "      \u003ctd\u003e\u003c/td\u003e\n",
              "    \u003c/tr\u003e\n",
              "    \u003ctr\u003e\n",
              "      \u003cth\u003e327\u003c/th\u003e\n",
              "      \u003ctd\u003ecase2_day1_slice_0110\u003c/td\u003e\n",
              "      \u003ctd\u003elarge_bowel\u003c/td\u003e\n",
              "      \u003ctd\u003e21894 11 22157 18 22420 23 22684 26 22948 29 2...\u003c/td\u003e\n",
              "    \u003c/tr\u003e\n",
              "    \u003ctr\u003e\n",
              "      \u003cth\u003e328\u003c/th\u003e\n",
              "      \u003ctd\u003ecase2_day1_slice_0110\u003c/td\u003e\n",
              "      \u003ctd\u003esmall_bowel\u003c/td\u003e\n",
              "      \u003ctd\u003e21400 8 21414 5 21663 13 21678 9 21927 27 2197...\u003c/td\u003e\n",
              "    \u003c/tr\u003e\n",
              "    \u003ctr\u003e\n",
              "      \u003cth\u003e329\u003c/th\u003e\n",
              "      \u003ctd\u003ecase2_day1_slice_0110\u003c/td\u003e\n",
              "      \u003ctd\u003estomach\u003c/td\u003e\n",
              "      \u003ctd\u003e\u003c/td\u003e\n",
              "    \u003c/tr\u003e\n",
              "    \u003ctr\u003e\n",
              "      \u003cth\u003e330\u003c/th\u003e\n",
              "      \u003ctd\u003ecase2_day1_slice_0111\u003c/td\u003e\n",
              "      \u003ctd\u003elarge_bowel\u003c/td\u003e\n",
              "      \u003ctd\u003e22160 15 22422 22 22686 25 22950 28 23214 30 2...\u003c/td\u003e\n",
              "    \u003c/tr\u003e\n",
              "    \u003ctr\u003e\n",
              "      \u003cth\u003e331\u003c/th\u003e\n",
              "      \u003ctd\u003ecase2_day1_slice_0111\u003c/td\u003e\n",
              "      \u003ctd\u003esmall_bowel\u003c/td\u003e\n",
              "      \u003ctd\u003e21401 6 21664 11 21926 24 22192 25 22456 28 22...\u003c/td\u003e\n",
              "    \u003c/tr\u003e\n",
              "    \u003ctr\u003e\n",
              "      \u003cth\u003e332\u003c/th\u003e\n",
              "      \u003ctd\u003ecase2_day1_slice_0111\u003c/td\u003e\n",
              "      \u003ctd\u003estomach\u003c/td\u003e\n",
              "      \u003ctd\u003e\u003c/td\u003e\n",
              "    \u003c/tr\u003e\n",
              "    \u003ctr\u003e\n",
              "      \u003cth\u003e333\u003c/th\u003e\n",
              "      \u003ctd\u003ecase2_day1_slice_0112\u003c/td\u003e\n",
              "      \u003ctd\u003elarge_bowel\u003c/td\u003e\n",
              "      \u003ctd\u003e22167 7 22425 19 22688 23 22952 26 23216 28 23...\u003c/td\u003e\n",
              "    \u003c/tr\u003e\n",
              "    \u003ctr\u003e\n",
              "      \u003cth\u003e334\u003c/th\u003e\n",
              "      \u003ctd\u003ecase2_day1_slice_0112\u003c/td\u003e\n",
              "      \u003ctd\u003esmall_bowel\u003c/td\u003e\n",
              "      \u003ctd\u003e21664 9 21926 16 22191 22 22456 26 22507 6 227...\u003c/td\u003e\n",
              "    \u003c/tr\u003e\n",
              "    \u003ctr\u003e\n",
              "      \u003cth\u003e335\u003c/th\u003e\n",
              "      \u003ctd\u003ecase2_day1_slice_0112\u003c/td\u003e\n",
              "      \u003ctd\u003estomach\u003c/td\u003e\n",
              "      \u003ctd\u003e\u003c/td\u003e\n",
              "    \u003c/tr\u003e\n",
              "    \u003ctr\u003e\n",
              "      \u003cth\u003e336\u003c/th\u003e\n",
              "      \u003ctd\u003ecase2_day1_slice_0113\u003c/td\u003e\n",
              "      \u003ctd\u003elarge_bowel\u003c/td\u003e\n",
              "      \u003ctd\u003e22431 11 22691 19 22954 23 23219 25 23483 28 2...\u003c/td\u003e\n",
              "    \u003c/tr\u003e\n",
              "    \u003ctr\u003e\n",
              "      \u003cth\u003e337\u003c/th\u003e\n",
              "      \u003ctd\u003ecase2_day1_slice_0113\u003c/td\u003e\n",
              "      \u003ctd\u003esmall_bowel\u003c/td\u003e\n",
              "      \u003ctd\u003e21666 3 21928 10 22191 19 22457 23 22721 26 22...\u003c/td\u003e\n",
              "    \u003c/tr\u003e\n",
              "    \u003ctr\u003e\n",
              "      \u003cth\u003e338\u003c/th\u003e\n",
              "      \u003ctd\u003ecase2_day1_slice_0113\u003c/td\u003e\n",
              "      \u003ctd\u003estomach\u003c/td\u003e\n",
              "      \u003ctd\u003e\u003c/td\u003e\n",
              "    \u003c/tr\u003e\n",
              "    \u003ctr\u003e\n",
              "      \u003cth\u003e339\u003c/th\u003e\n",
              "      \u003ctd\u003ecase2_day1_slice_0114\u003c/td\u003e\n",
              "      \u003ctd\u003elarge_bowel\u003c/td\u003e\n",
              "      \u003ctd\u003e22434 6 22693 16 22956 20 23221 23 23485 25 23...\u003c/td\u003e\n",
              "    \u003c/tr\u003e\n",
              "  \u003c/tbody\u003e\n",
              "\u003c/table\u003e\n",
              "\u003c/div\u003e"
            ],
            "text/plain": [
              "                        id        class  \\\n",
              "320  case2_day1_slice_0107      stomach   \n",
              "321  case2_day1_slice_0108  large_bowel   \n",
              "322  case2_day1_slice_0108  small_bowel   \n",
              "323  case2_day1_slice_0108      stomach   \n",
              "324  case2_day1_slice_0109  large_bowel   \n",
              "325  case2_day1_slice_0109  small_bowel   \n",
              "326  case2_day1_slice_0109      stomach   \n",
              "327  case2_day1_slice_0110  large_bowel   \n",
              "328  case2_day1_slice_0110  small_bowel   \n",
              "329  case2_day1_slice_0110      stomach   \n",
              "330  case2_day1_slice_0111  large_bowel   \n",
              "331  case2_day1_slice_0111  small_bowel   \n",
              "332  case2_day1_slice_0111      stomach   \n",
              "333  case2_day1_slice_0112  large_bowel   \n",
              "334  case2_day1_slice_0112  small_bowel   \n",
              "335  case2_day1_slice_0112      stomach   \n",
              "336  case2_day1_slice_0113  large_bowel   \n",
              "337  case2_day1_slice_0113  small_bowel   \n",
              "338  case2_day1_slice_0113      stomach   \n",
              "339  case2_day1_slice_0114  large_bowel   \n",
              "\n",
              "                                             predicted  \n",
              "320                                                     \n",
              "321  21367 4 21628 11 21888 19 22151 23 22414 27 22...  \n",
              "322  20089 9 20352 14 20617 18 20882 21 21147 24 21...  \n",
              "323                                                     \n",
              "324  21630 7 21890 16 22154 19 22417 25 22682 27 22...  \n",
              "325  20620 12 20884 17 21148 21 21398 10 21413 24 2...  \n",
              "326                                                     \n",
              "327  21894 11 22157 18 22420 23 22684 26 22948 29 2...  \n",
              "328  21400 8 21414 5 21663 13 21678 9 21927 27 2197...  \n",
              "329                                                     \n",
              "330  22160 15 22422 22 22686 25 22950 28 23214 30 2...  \n",
              "331  21401 6 21664 11 21926 24 22192 25 22456 28 22...  \n",
              "332                                                     \n",
              "333  22167 7 22425 19 22688 23 22952 26 23216 28 23...  \n",
              "334  21664 9 21926 16 22191 22 22456 26 22507 6 227...  \n",
              "335                                                     \n",
              "336  22431 11 22691 19 22954 23 23219 25 23483 28 2...  \n",
              "337  21666 3 21928 10 22191 19 22457 23 22721 26 22...  \n",
              "338                                                     \n",
              "339  22434 6 22693 16 22956 20 23221 23 23485 25 23...  "
            ]
          },
          "execution_count": 44,
          "metadata": {},
          "output_type": "execute_result"
        }
      ],
      "source": [
        " sub_df.iloc[320:340]"
      ]
    }
  ],
  "metadata": {
    "kernelspec": {
      "display_name": "Python 3",
      "language": "python",
      "name": "python3"
    },
    "language_info": {
      "codemirror_mode": {
        "name": "ipython",
        "version": 3
      },
      "file_extension": ".py",
      "mimetype": "text/x-python",
      "name": "python",
      "nbconvert_exporter": "python",
      "pygments_lexer": "ipython3",
      "version": "3.7.10"
    },
    "papermill": {
      "default_parameters": {},
      "duration": 492.595267,
      "end_time": "2022-07-24T12:34:55.833015",
      "environment_variables": {},
      "exception": null,
      "input_path": "__notebook__.ipynb",
      "output_path": "__notebook__.ipynb",
      "parameters": {},
      "start_time": "2022-07-24T12:26:43.237748",
      "version": "2.3.3"
    }
  },
  "nbformat": 4,
  "nbformat_minor": 5
}